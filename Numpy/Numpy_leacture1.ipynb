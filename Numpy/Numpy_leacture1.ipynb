{
 "cells": [
  {
   "cell_type": "raw",
   "id": "aa36bb68-d666-49f1-931d-07d88690ba2c",
   "metadata": {},
   "source": [
    "numpy is created in C language and numpy is the base of pandas"
   ]
  },
  {
   "cell_type": "code",
   "execution_count": 1,
   "id": "8fc687e9-9ca5-46fc-a9b8-c3915f5cc811",
   "metadata": {},
   "outputs": [],
   "source": [
    "import numpy as np"
   ]
  },
  {
   "cell_type": "markdown",
   "id": "6de42e99-cd61-4c97-b4db-b6447641a27e",
   "metadata": {},
   "source": [
    "### Data Types"
   ]
  },
  {
   "cell_type": "markdown",
   "id": "cda71d40-ffe7-40ac-87ed-bb36d095088e",
   "metadata": {},
   "source": [
    "Array"
   ]
  },
  {
   "cell_type": "raw",
   "id": "bc893793-0590-4516-a347-f8c62572a2b1",
   "metadata": {},
   "source": [
    "np.arrary()"
   ]
  },
  {
   "cell_type": "code",
   "execution_count": 8,
   "id": "b0191e62-f3ac-4d67-8307-3bee71181852",
   "metadata": {},
   "outputs": [],
   "source": [
    "#1d array / vector\n",
    "a1d = np.array([1,2,3])"
   ]
  },
  {
   "cell_type": "code",
   "execution_count": 3,
   "id": "c700815f-ae04-47ff-932b-5be2b12e3e70",
   "metadata": {},
   "outputs": [
    {
     "data": {
      "text/plain": [
       "array([1, 2, 3])"
      ]
     },
     "execution_count": 3,
     "metadata": {},
     "output_type": "execute_result"
    }
   ],
   "source": [
    "a1d"
   ]
  },
  {
   "cell_type": "code",
   "execution_count": 28,
   "id": "1d57bc4b-7c29-4668-90ef-4b80b3ac63c4",
   "metadata": {},
   "outputs": [],
   "source": [
    "#2d array / Matrix\n",
    "a2d = np.array([[1,2,3],[4,5,6]])"
   ]
  },
  {
   "cell_type": "code",
   "execution_count": 5,
   "id": "d58af5fc-c636-4915-91a2-ab954c0295df",
   "metadata": {},
   "outputs": [
    {
     "data": {
      "text/plain": [
       "array([[1, 2, 3],\n",
       "       [4, 5, 6]])"
      ]
     },
     "execution_count": 5,
     "metadata": {},
     "output_type": "execute_result"
    }
   ],
   "source": [
    "a2d"
   ]
  },
  {
   "cell_type": "code",
   "execution_count": 27,
   "id": "f07fae7b-2719-4925-863b-2ee80bb09a87",
   "metadata": {},
   "outputs": [],
   "source": [
    "#3d array \n",
    "a3d = np.array([[[1,2,3],[4,5,6]],[[1,2,3],[4,5,6]]])"
   ]
  },
  {
   "cell_type": "code",
   "execution_count": 7,
   "id": "9f710fa4-5561-4722-ae43-c20209bca5e4",
   "metadata": {},
   "outputs": [
    {
     "data": {
      "text/plain": [
       "array([[[1, 2, 3],\n",
       "        [4, 5, 6]],\n",
       "\n",
       "       [[1, 2, 3],\n",
       "        [4, 5, 6]]])"
      ]
     },
     "execution_count": 7,
     "metadata": {},
     "output_type": "execute_result"
    }
   ],
   "source": [
    "a3d"
   ]
  },
  {
   "cell_type": "code",
   "execution_count": 11,
   "id": "adfd7e72-052b-4dde-8936-3a481baca3de",
   "metadata": {},
   "outputs": [
    {
     "data": {
      "text/plain": [
       "(3,)"
      ]
     },
     "execution_count": 11,
     "metadata": {},
     "output_type": "execute_result"
    }
   ],
   "source": [
    "a1d.shape"
   ]
  },
  {
   "cell_type": "code",
   "execution_count": 12,
   "id": "4950e298-0f29-4a24-a821-37007e11cf2d",
   "metadata": {},
   "outputs": [
    {
     "data": {
      "text/plain": [
       "(2, 3)"
      ]
     },
     "execution_count": 12,
     "metadata": {},
     "output_type": "execute_result"
    }
   ],
   "source": [
    "a2d.shape"
   ]
  },
  {
   "cell_type": "code",
   "execution_count": 14,
   "id": "0a571450-1452-42f2-9d57-9a9312a69069",
   "metadata": {},
   "outputs": [
    {
     "data": {
      "text/plain": [
       "(2, 2, 3)"
      ]
     },
     "execution_count": 14,
     "metadata": {},
     "output_type": "execute_result"
    }
   ],
   "source": [
    "a3d.shape"
   ]
  },
  {
   "cell_type": "markdown",
   "id": "3048e946-d27f-47c1-b84c-a3cde57bce97",
   "metadata": {},
   "source": [
    "# Important Functions in Array"
   ]
  },
  {
   "cell_type": "raw",
   "id": "f8a7f79b-f9bd-47c9-b5aa-4e44db0bbdd6",
   "metadata": {},
   "source": [
    "instence:\n",
    ".shape\n",
    ".ndim\n",
    ".dtype\n",
    ".size\n",
    "type()"
   ]
  },
  {
   "cell_type": "code",
   "execution_count": 15,
   "id": "ab6f1dff-e797-4805-aca4-0e4ba1aa3ff4",
   "metadata": {},
   "outputs": [
    {
     "data": {
      "text/plain": [
       "(2, 2, 3)"
      ]
     },
     "execution_count": 15,
     "metadata": {},
     "output_type": "execute_result"
    }
   ],
   "source": [
    "a3d.shape"
   ]
  },
  {
   "cell_type": "code",
   "execution_count": 17,
   "id": "44c45cbe-54ea-487f-a7b8-0e00c7d2ad26",
   "metadata": {},
   "outputs": [
    {
     "data": {
      "text/plain": [
       "3"
      ]
     },
     "execution_count": 17,
     "metadata": {},
     "output_type": "execute_result"
    }
   ],
   "source": [
    "a3d.ndim # tell dimensions"
   ]
  },
  {
   "cell_type": "code",
   "execution_count": 19,
   "id": "45627acf-f6f5-4dd5-b45d-9975199dd2a5",
   "metadata": {},
   "outputs": [
    {
     "data": {
      "text/plain": [
       "dtype('int32')"
      ]
     },
     "execution_count": 19,
     "metadata": {},
     "output_type": "execute_result"
    }
   ],
   "source": [
    "a3d.dtype"
   ]
  },
  {
   "cell_type": "code",
   "execution_count": 20,
   "id": "8741308a-5b7b-425f-af3a-5f6b4d137aa1",
   "metadata": {},
   "outputs": [
    {
     "data": {
      "text/plain": [
       "12"
      ]
     },
     "execution_count": 20,
     "metadata": {},
     "output_type": "execute_result"
    }
   ],
   "source": [
    "a3d.size"
   ]
  },
  {
   "cell_type": "code",
   "execution_count": 21,
   "id": "3c68882d-93e3-458d-b0f9-45134cd16837",
   "metadata": {},
   "outputs": [
    {
     "data": {
      "text/plain": [
       "numpy.ndarray"
      ]
     },
     "execution_count": 21,
     "metadata": {},
     "output_type": "execute_result"
    }
   ],
   "source": [
    "type(a3d)"
   ]
  },
  {
   "cell_type": "code",
   "execution_count": 22,
   "id": "43bff301-de9b-4e2b-8aed-bc06cc4c5084",
   "metadata": {},
   "outputs": [],
   "source": [
    "import pandas as pd"
   ]
  },
  {
   "cell_type": "code",
   "execution_count": 23,
   "id": "e030a8ac-4f3e-4559-9918-a2094d8f436d",
   "metadata": {},
   "outputs": [],
   "source": [
    "df = pd.DataFrame(a2d)"
   ]
  },
  {
   "cell_type": "code",
   "execution_count": 24,
   "id": "398e01fb-2806-41d6-86d1-8bc4928cd56c",
   "metadata": {},
   "outputs": [
    {
     "data": {
      "text/html": [
       "<div>\n",
       "<style scoped>\n",
       "    .dataframe tbody tr th:only-of-type {\n",
       "        vertical-align: middle;\n",
       "    }\n",
       "\n",
       "    .dataframe tbody tr th {\n",
       "        vertical-align: top;\n",
       "    }\n",
       "\n",
       "    .dataframe thead th {\n",
       "        text-align: right;\n",
       "    }\n",
       "</style>\n",
       "<table border=\"1\" class=\"dataframe\">\n",
       "  <thead>\n",
       "    <tr style=\"text-align: right;\">\n",
       "      <th></th>\n",
       "      <th>0</th>\n",
       "      <th>1</th>\n",
       "      <th>2</th>\n",
       "    </tr>\n",
       "  </thead>\n",
       "  <tbody>\n",
       "    <tr>\n",
       "      <th>0</th>\n",
       "      <td>1</td>\n",
       "      <td>2</td>\n",
       "      <td>3</td>\n",
       "    </tr>\n",
       "    <tr>\n",
       "      <th>1</th>\n",
       "      <td>4</td>\n",
       "      <td>5</td>\n",
       "      <td>6</td>\n",
       "    </tr>\n",
       "  </tbody>\n",
       "</table>\n",
       "</div>"
      ],
      "text/plain": [
       "   0  1  2\n",
       "0  1  2  3\n",
       "1  4  5  6"
      ]
     },
     "execution_count": 24,
     "metadata": {},
     "output_type": "execute_result"
    }
   ],
   "source": [
    "df"
   ]
  },
  {
   "cell_type": "markdown",
   "id": "7dcd9d0a-03da-4f34-aaf7-d5e711e875e6",
   "metadata": {},
   "source": [
    "# Creating numpy Array"
   ]
  },
  {
   "cell_type": "raw",
   "id": "a2191f5d-bbf7-4ab9-9362-95c9f387871d",
   "metadata": {},
   "source": [
    "Array creating fucntions:\n",
    "np.ones((x,y))                        # ie; 2x2 , 2x3 , 4x3\n",
    "np.zeros((x,y))                       # ie; 2x2 , 2x3 , 4x3\n",
    "np.arange(0,10,2)                     # range function of numpy ;(start,stop,step size)\n",
    "np.random.randint(0,10,size = (3,5))  # for random arrays ;(start,stop ,size)"
   ]
  },
  {
   "cell_type": "code",
   "execution_count": 25,
   "id": "1d4e6d22-9edf-4a9d-8f8c-77de2fe1627e",
   "metadata": {},
   "outputs": [],
   "source": [
    "test_array = np.array([1,2,3])"
   ]
  },
  {
   "cell_type": "code",
   "execution_count": 28,
   "id": "9e3222ad-b18a-4fe0-a118-4479e013023e",
   "metadata": {},
   "outputs": [
    {
     "data": {
      "text/plain": [
       "array([1, 2, 3])"
      ]
     },
     "execution_count": 28,
     "metadata": {},
     "output_type": "execute_result"
    }
   ],
   "source": [
    "test_array"
   ]
  },
  {
   "cell_type": "code",
   "execution_count": 41,
   "id": "6e7a3222-f663-4f88-a154-4a9faf3bae9b",
   "metadata": {},
   "outputs": [],
   "source": [
    "# Zeros\n",
    "# Ones\n",
    "# randomes\n",
    "ones = np.ones((2,3))"
   ]
  },
  {
   "cell_type": "code",
   "execution_count": 42,
   "id": "a7dd6378-63e8-4028-a10d-8f72530d41c8",
   "metadata": {},
   "outputs": [
    {
     "data": {
      "text/plain": [
       "array([[1., 1., 1.],\n",
       "       [1., 1., 1.]])"
      ]
     },
     "execution_count": 42,
     "metadata": {},
     "output_type": "execute_result"
    }
   ],
   "source": [
    "ones"
   ]
  },
  {
   "cell_type": "code",
   "execution_count": 38,
   "id": "f3ffd5d2-00b3-4890-a8a0-450a293390d0",
   "metadata": {},
   "outputs": [
    {
     "data": {
      "text/plain": [
       "dtype('float64')"
      ]
     },
     "execution_count": 38,
     "metadata": {},
     "output_type": "execute_result"
    }
   ],
   "source": [
    "ones.dtype"
   ]
  },
  {
   "cell_type": "code",
   "execution_count": 43,
   "id": "5ceee898-b2ef-4c6d-9d56-56f49fa10bac",
   "metadata": {},
   "outputs": [],
   "source": [
    "zeros = np.zeros((2,3))"
   ]
  },
  {
   "cell_type": "code",
   "execution_count": 44,
   "id": "052de7dc-55b0-41b0-860d-ef90bae9c2eb",
   "metadata": {},
   "outputs": [
    {
     "data": {
      "text/plain": [
       "array([[0., 0., 0.],\n",
       "       [0., 0., 0.]])"
      ]
     },
     "execution_count": 44,
     "metadata": {},
     "output_type": "execute_result"
    }
   ],
   "source": [
    "zeros"
   ]
  },
  {
   "cell_type": "code",
   "execution_count": 3,
   "id": "1b75bffd-ae7b-48c6-a15e-96ed624be274",
   "metadata": {},
   "outputs": [],
   "source": [
    "range_array = np.arange(0,20,2) # (start,stop,step size)"
   ]
  },
  {
   "cell_type": "code",
   "execution_count": 4,
   "id": "c6ecd06a-b51a-4811-a971-10b26847fa31",
   "metadata": {},
   "outputs": [
    {
     "data": {
      "text/plain": [
       "array([ 0,  2,  4,  6,  8, 10, 12, 14, 16, 18])"
      ]
     },
     "execution_count": 4,
     "metadata": {},
     "output_type": "execute_result"
    }
   ],
   "source": [
    "range_array"
   ]
  },
  {
   "cell_type": "code",
   "execution_count": 49,
   "id": "6af76036-30dd-47e5-8c98-750c5fe0bf9d",
   "metadata": {},
   "outputs": [],
   "source": [
    "random_matrix = np.random.randint(0,10,size = (3,5))  #(start,stiop ,size)"
   ]
  },
  {
   "cell_type": "code",
   "execution_count": 57,
   "id": "851526e2-24a8-4311-9f7e-6e4d743758a9",
   "metadata": {},
   "outputs": [
    {
     "data": {
      "text/plain": [
       "array([[4, 9, 2, 2, 2],\n",
       "       [2, 8, 4, 2, 0],\n",
       "       [0, 4, 7, 1, 2]])"
      ]
     },
     "execution_count": 57,
     "metadata": {},
     "output_type": "execute_result"
    }
   ],
   "source": [
    "random_matrix  #manual range"
   ]
  },
  {
   "cell_type": "code",
   "execution_count": 51,
   "id": "fba19370-212a-4705-8e4f-36c67195af68",
   "metadata": {},
   "outputs": [
    {
     "data": {
      "text/plain": [
       "(3, 5)"
      ]
     },
     "execution_count": 51,
     "metadata": {},
     "output_type": "execute_result"
    }
   ],
   "source": [
    "random_matrix.shape"
   ]
  },
  {
   "cell_type": "code",
   "execution_count": 52,
   "id": "a86d1580-4c12-4352-944e-7f424802330e",
   "metadata": {},
   "outputs": [
    {
     "data": {
      "text/plain": [
       "15"
      ]
     },
     "execution_count": 52,
     "metadata": {},
     "output_type": "execute_result"
    }
   ],
   "source": [
    "random_matrix.size"
   ]
  },
  {
   "cell_type": "code",
   "execution_count": 55,
   "id": "b363e518-5d2e-4886-86f2-d8eebbdea8ec",
   "metadata": {},
   "outputs": [],
   "source": [
    "rand_matrix = np.random.rand(3,5)  #auto range 0-1"
   ]
  },
  {
   "cell_type": "code",
   "execution_count": 56,
   "id": "06bb633c-5419-4161-a672-f7ba00928f23",
   "metadata": {},
   "outputs": [
    {
     "data": {
      "text/plain": [
       "array([[0.27150494, 0.05545333, 0.13025804, 0.66649165, 0.71599314],\n",
       "       [0.48955916, 0.78094925, 0.89494257, 0.92279634, 0.16269352],\n",
       "       [0.6989043 , 0.02655472, 0.88577737, 0.62357004, 0.7702985 ]])"
      ]
     },
     "execution_count": 56,
     "metadata": {},
     "output_type": "execute_result"
    }
   ],
   "source": [
    "rand_matrix"
   ]
  },
  {
   "cell_type": "markdown",
   "id": "0cc39093-f674-451d-9a53-319f79106fc2",
   "metadata": {},
   "source": [
    "### Seed "
   ]
  },
  {
   "cell_type": "code",
   "execution_count": 25,
   "id": "8da18bed-5298-46ec-a16f-3391906ab57a",
   "metadata": {},
   "outputs": [],
   "source": [
    "rand_matrix = np.random.rand(3,5)"
   ]
  },
  {
   "cell_type": "code",
   "execution_count": 26,
   "id": "3a0eb2b1-e10e-4f41-bebd-8c533eeeb7cb",
   "metadata": {},
   "outputs": [
    {
     "data": {
      "text/plain": [
       "7.775560214726889"
      ]
     },
     "execution_count": 26,
     "metadata": {},
     "output_type": "execute_result"
    }
   ],
   "source": [
    "rand_matrix.sum()"
   ]
  },
  {
   "cell_type": "markdown",
   "id": "d46345aa-3d1d-4cc0-8c66-86105b4e74ca",
   "metadata": {},
   "source": [
    "to fix this changing this random int we will do below work"
   ]
  },
  {
   "cell_type": "code",
   "execution_count": 21,
   "id": "7ebe3751-9055-4667-9c63-501280b02bde",
   "metadata": {},
   "outputs": [],
   "source": [
    "np.random.seed(seed = 0)\n",
    "rand_matrix = np.random.rand(3,5)"
   ]
  },
  {
   "cell_type": "code",
   "execution_count": 22,
   "id": "bb431be5-db30-4f25-a0f4-f8461606b569",
   "metadata": {},
   "outputs": [
    {
     "data": {
      "text/plain": [
       "9.042960048565472"
      ]
     },
     "execution_count": 22,
     "metadata": {},
     "output_type": "execute_result"
    }
   ],
   "source": [
    "rand_matrix.sum()"
   ]
  },
  {
   "cell_type": "markdown",
   "id": "3b1faf1f-2960-481b-a851-73b9fdb7f0c8",
   "metadata": {},
   "source": [
    "## Accessing Elements"
   ]
  },
  {
   "cell_type": "raw",
   "id": "1ef8e341-fb5a-47ba-9014-7ded6053274f",
   "metadata": {},
   "source": [
    "important :\n",
    "a3d[0:2,0:1,0:2]       # slicing a 3d matrix"
   ]
  },
  {
   "cell_type": "code",
   "execution_count": 29,
   "id": "9cd7e469-f618-4939-9c70-c1b6683d43e8",
   "metadata": {},
   "outputs": [
    {
     "data": {
      "text/plain": [
       "array([[[1, 2, 3],\n",
       "        [4, 5, 6]],\n",
       "\n",
       "       [[1, 2, 3],\n",
       "        [4, 5, 6]]])"
      ]
     },
     "execution_count": 29,
     "metadata": {},
     "output_type": "execute_result"
    }
   ],
   "source": [
    "a3d"
   ]
  },
  {
   "cell_type": "code",
   "execution_count": 30,
   "id": "2ed802ca-1f30-4727-b64c-d574879d4f64",
   "metadata": {},
   "outputs": [
    {
     "data": {
      "text/plain": [
       "array([[1, 2, 3],\n",
       "       [4, 5, 6]])"
      ]
     },
     "execution_count": 30,
     "metadata": {},
     "output_type": "execute_result"
    }
   ],
   "source": [
    "a2d"
   ]
  },
  {
   "cell_type": "code",
   "execution_count": 31,
   "id": "65846e9b-4097-41d1-b485-cc7594ae1cf5",
   "metadata": {},
   "outputs": [
    {
     "data": {
      "text/plain": [
       "array([1, 2, 3])"
      ]
     },
     "execution_count": 31,
     "metadata": {},
     "output_type": "execute_result"
    }
   ],
   "source": [
    "a2d[0]"
   ]
  },
  {
   "cell_type": "code",
   "execution_count": 32,
   "id": "01b5138b-ddf0-47d0-b7ab-28bd903b5b8b",
   "metadata": {},
   "outputs": [
    {
     "data": {
      "text/plain": [
       "array([4, 5, 6])"
      ]
     },
     "execution_count": 32,
     "metadata": {},
     "output_type": "execute_result"
    }
   ],
   "source": [
    "a2d[1]"
   ]
  },
  {
   "cell_type": "code",
   "execution_count": 33,
   "id": "8a0a99ed-9761-41c9-813a-88cf03ee67f7",
   "metadata": {},
   "outputs": [
    {
     "data": {
      "text/plain": [
       "array([[[1, 2, 3],\n",
       "        [4, 5, 6]],\n",
       "\n",
       "       [[1, 2, 3],\n",
       "        [4, 5, 6]]])"
      ]
     },
     "execution_count": 33,
     "metadata": {},
     "output_type": "execute_result"
    }
   ],
   "source": [
    "a3d"
   ]
  },
  {
   "cell_type": "code",
   "execution_count": 34,
   "id": "ae922e50-98d3-4130-bf5b-f16998ee6688",
   "metadata": {},
   "outputs": [
    {
     "data": {
      "text/plain": [
       "array([[1, 2, 3],\n",
       "       [4, 5, 6]])"
      ]
     },
     "execution_count": 34,
     "metadata": {},
     "output_type": "execute_result"
    }
   ],
   "source": [
    "a3d[0]"
   ]
  },
  {
   "cell_type": "code",
   "execution_count": 35,
   "id": "0c3fb471-585c-432d-a5a8-40cadcaf5b6a",
   "metadata": {},
   "outputs": [
    {
     "data": {
      "text/plain": [
       "array([[1, 2, 3],\n",
       "       [4, 5, 6]])"
      ]
     },
     "execution_count": 35,
     "metadata": {},
     "output_type": "execute_result"
    }
   ],
   "source": [
    "a3d[1]"
   ]
  },
  {
   "cell_type": "code",
   "execution_count": 36,
   "id": "f89ea7aa-f5c9-47d4-ba61-7caa68574de6",
   "metadata": {},
   "outputs": [
    {
     "data": {
      "text/plain": [
       "array([[[1, 2, 3],\n",
       "        [4, 5, 6]],\n",
       "\n",
       "       [[1, 2, 3],\n",
       "        [4, 5, 6]]])"
      ]
     },
     "execution_count": 36,
     "metadata": {},
     "output_type": "execute_result"
    }
   ],
   "source": [
    "a3d"
   ]
  },
  {
   "cell_type": "code",
   "execution_count": 46,
   "id": "a765cc99-2ade-4800-a086-570c6dae783f",
   "metadata": {},
   "outputs": [
    {
     "data": {
      "text/plain": [
       "array([[[1, 2]],\n",
       "\n",
       "       [[1, 2]]])"
      ]
     },
     "execution_count": 46,
     "metadata": {},
     "output_type": "execute_result"
    }
   ],
   "source": [
    "a3d[0:2,0:1,0:2] # slicing a 3d matrix\n",
    "# 0:2  take from 0 to 2( mean both above 2d matrix )\n",
    "# 0:1  takes from 0 to 1( means from each matrix take only one element)\n",
    "# 0:2  take from zero to 2 ( means column 0 to 2)"
   ]
  },
  {
   "cell_type": "code",
   "execution_count": 1,
   "id": "17480601-a870-4393-b975-20fbf549cb9c",
   "metadata": {},
   "outputs": [],
   "source": [
    "import numpy as np\n",
    "arandom = np.random.randint(10, size= (3,4,5))"
   ]
  },
  {
   "cell_type": "code",
   "execution_count": 2,
   "id": "22b0135c-e8a1-4c17-8542-7b7028fa9e70",
   "metadata": {},
   "outputs": [
    {
     "data": {
      "text/plain": [
       "array([[[6, 5, 0, 1, 3],\n",
       "        [3, 5, 2, 0, 1],\n",
       "        [2, 1, 6, 1, 1],\n",
       "        [9, 1, 8, 4, 2]],\n",
       "\n",
       "       [[7, 9, 1, 7, 2],\n",
       "        [9, 6, 7, 0, 5],\n",
       "        [0, 8, 0, 8, 6],\n",
       "        [3, 8, 8, 2, 3]],\n",
       "\n",
       "       [[1, 0, 7, 5, 2],\n",
       "        [2, 0, 2, 2, 2],\n",
       "        [4, 5, 7, 9, 3],\n",
       "        [6, 3, 8, 6, 3]]])"
      ]
     },
     "execution_count": 2,
     "metadata": {},
     "output_type": "execute_result"
    }
   ],
   "source": [
    "arandom"
   ]
  },
  {
   "cell_type": "code",
   "execution_count": 5,
   "id": "1675bbd8-6215-4c9b-b89d-0348f21bb0a9",
   "metadata": {},
   "outputs": [
    {
     "data": {
      "text/plain": [
       "array([[[6, 7],\n",
       "        [8, 0]]])"
      ]
     },
     "execution_count": 5,
     "metadata": {},
     "output_type": "execute_result"
    }
   ],
   "source": [
    "arandom[1:2,1:3,1:3]"
   ]
  },
  {
   "cell_type": "code",
   "execution_count": 56,
   "id": "b234f91d-000f-4ea2-a5db-2261bc77236c",
   "metadata": {},
   "outputs": [],
   "source": [
    "arandom = np.random.randint(10, size= (2,3,4,5))"
   ]
  },
  {
   "cell_type": "code",
   "execution_count": 58,
   "id": "304b5a1b-4a4b-4fb8-ae01-08f6e21f96db",
   "metadata": {},
   "outputs": [
    {
     "data": {
      "text/plain": [
       "array([[[[5, 5, 0, 8, 1],\n",
       "         [1, 0, 3, 8, 8],\n",
       "         [4, 4, 0, 9, 3],\n",
       "         [7, 3, 2, 1, 1]],\n",
       "\n",
       "        [[2, 1, 4, 2, 5],\n",
       "         [5, 5, 2, 5, 7],\n",
       "         [7, 6, 1, 6, 7],\n",
       "         [2, 3, 1, 9, 5]],\n",
       "\n",
       "        [[9, 9, 2, 0, 9],\n",
       "         [1, 9, 0, 6, 0],\n",
       "         [4, 8, 4, 3, 3],\n",
       "         [8, 8, 7, 0, 3]]],\n",
       "\n",
       "\n",
       "       [[[8, 7, 7, 1, 8],\n",
       "         [4, 7, 0, 4, 9],\n",
       "         [0, 6, 4, 2, 4],\n",
       "         [6, 3, 3, 7, 8]],\n",
       "\n",
       "        [[5, 0, 8, 5, 4],\n",
       "         [7, 4, 1, 3, 3],\n",
       "         [9, 2, 5, 2, 3],\n",
       "         [5, 7, 2, 7, 1]],\n",
       "\n",
       "        [[6, 5, 0, 0, 3],\n",
       "         [1, 9, 9, 6, 6],\n",
       "         [7, 8, 8, 7, 0],\n",
       "         [8, 6, 8, 9, 8]]]])"
      ]
     },
     "execution_count": 58,
     "metadata": {},
     "output_type": "execute_result"
    }
   ],
   "source": [
    "arandom"
   ]
  },
  {
   "cell_type": "code",
   "execution_count": 62,
   "id": "aa1e4ef4-2c7f-4a5e-b545-22c299ba81a0",
   "metadata": {},
   "outputs": [
    {
     "data": {
      "text/plain": [
       "array([[[[5]]]])"
      ]
     },
     "execution_count": 62,
     "metadata": {},
     "output_type": "execute_result"
    }
   ],
   "source": [
    "arandom[:1,:1,0:1,:1]"
   ]
  },
  {
   "cell_type": "markdown",
   "id": "ca20c281-b939-49ea-8977-5d0359619e89",
   "metadata": {},
   "source": [
    "# Array Mainpulation"
   ]
  },
  {
   "cell_type": "code",
   "execution_count": 2,
   "id": "5a7a4d11-6982-485c-b6e5-4be89d6f0535",
   "metadata": {},
   "outputs": [],
   "source": [
    "a1d = np.array([1,2,3])"
   ]
  },
  {
   "cell_type": "code",
   "execution_count": 3,
   "id": "85eb31f6-8215-4d1f-b451-b47f24865e16",
   "metadata": {},
   "outputs": [],
   "source": [
    "ones = np.ones((2,3))"
   ]
  },
  {
   "cell_type": "code",
   "execution_count": 4,
   "id": "c2813db7-fefb-49eb-a881-0aef5ab5c889",
   "metadata": {},
   "outputs": [
    {
     "data": {
      "text/plain": [
       "array([1, 2, 3])"
      ]
     },
     "execution_count": 4,
     "metadata": {},
     "output_type": "execute_result"
    }
   ],
   "source": [
    "a1d"
   ]
  },
  {
   "cell_type": "code",
   "execution_count": 5,
   "id": "de9e6c7a-ff75-4098-b4be-178c36f81e5b",
   "metadata": {},
   "outputs": [
    {
     "data": {
      "text/plain": [
       "array([[1., 1., 1.],\n",
       "       [1., 1., 1.]])"
      ]
     },
     "execution_count": 5,
     "metadata": {},
     "output_type": "execute_result"
    }
   ],
   "source": [
    "ones"
   ]
  },
  {
   "cell_type": "code",
   "execution_count": 6,
   "id": "4e870c55-8e6a-449f-863c-29f5d8f6a02d",
   "metadata": {},
   "outputs": [
    {
     "data": {
      "text/plain": [
       "array([[2., 3., 4.],\n",
       "       [2., 3., 4.]])"
      ]
     },
     "execution_count": 6,
     "metadata": {},
     "output_type": "execute_result"
    }
   ],
   "source": [
    "a1d + ones"
   ]
  },
  {
   "cell_type": "markdown",
   "id": "642cf7ff-4e90-4119-8b06-e4c2b11b5e46",
   "metadata": {},
   "source": [
    "### maping or broadcasting"
   ]
  },
  {
   "cell_type": "code",
   "execution_count": 7,
   "id": "cc9d1051-36f5-4323-97e8-afdee564b45e",
   "metadata": {},
   "outputs": [
    {
     "data": {
      "text/plain": [
       "array([[0., 1., 2.],\n",
       "       [0., 1., 2.]])"
      ]
     },
     "execution_count": 7,
     "metadata": {},
     "output_type": "execute_result"
    }
   ],
   "source": [
    "a1d - ones"
   ]
  },
  {
   "cell_type": "code",
   "execution_count": 8,
   "id": "f30e0cab-8545-4bcc-8e85-c1496b84f46f",
   "metadata": {},
   "outputs": [],
   "source": [
    "a2d = np.random.randint(0,10,size = (2,3))"
   ]
  },
  {
   "cell_type": "code",
   "execution_count": 9,
   "id": "605fb5a4-3821-45b8-8d50-8687e7b66722",
   "metadata": {},
   "outputs": [
    {
     "data": {
      "text/plain": [
       "array([[3, 6, 8],\n",
       "       [7, 0, 7]])"
      ]
     },
     "execution_count": 9,
     "metadata": {},
     "output_type": "execute_result"
    }
   ],
   "source": [
    "a2d"
   ]
  },
  {
   "cell_type": "code",
   "execution_count": 12,
   "id": "6499870d-2de3-43be-9cd1-233bb37c851f",
   "metadata": {},
   "outputs": [],
   "source": [
    "a3d = np.random.randint(0,10, size = (2,2,4))"
   ]
  },
  {
   "cell_type": "code",
   "execution_count": 13,
   "id": "a113acee-1110-4680-b2df-af6ac5af55b9",
   "metadata": {},
   "outputs": [
    {
     "data": {
      "text/plain": [
       "array([[[8, 5, 9, 9],\n",
       "        [3, 2, 0, 6]],\n",
       "\n",
       "       [[0, 6, 8, 2],\n",
       "        [4, 8, 3, 0]]])"
      ]
     },
     "execution_count": 13,
     "metadata": {},
     "output_type": "execute_result"
    }
   ],
   "source": [
    "a3d"
   ]
  },
  {
   "cell_type": "code",
   "execution_count": 17,
   "id": "f9883cc6-0edf-424a-a977-96e87beb1946",
   "metadata": {},
   "outputs": [],
   "source": [
    "t = a3d[:2,:2,:3]"
   ]
  },
  {
   "cell_type": "code",
   "execution_count": 20,
   "id": "816d7092-2784-4419-99bd-6f97c3314377",
   "metadata": {},
   "outputs": [
    {
     "data": {
      "text/plain": [
       "array([[[11, 11, 17],\n",
       "        [10,  2,  7]],\n",
       "\n",
       "       [[ 3, 12, 16],\n",
       "        [11,  8, 10]]])"
      ]
     },
     "execution_count": 20,
     "metadata": {},
     "output_type": "execute_result"
    }
   ],
   "source": [
    "a2d + t"
   ]
  },
  {
   "cell_type": "code",
   "execution_count": 24,
   "id": "2764215c-1df5-45b4-bbb2-9944b650b43f",
   "metadata": {},
   "outputs": [
    {
     "name": "stderr",
     "output_type": "stream",
     "text": [
      "C:\\Users\\AL Rehman Computer\\AppData\\Local\\Temp\\ipykernel_14088\\3014494431.py:1: RuntimeWarning: divide by zero encountered in floor_divide\n",
      "  a1d // a2d\n"
     ]
    },
    {
     "data": {
      "text/plain": [
       "array([[0, 0, 0],\n",
       "       [0, 0, 0]])"
      ]
     },
     "execution_count": 24,
     "metadata": {},
     "output_type": "execute_result"
    }
   ],
   "source": [
    "a1d // a2d"
   ]
  },
  {
   "cell_type": "code",
   "execution_count": 25,
   "id": "b8808578-833e-4a14-95a7-065f719b5058",
   "metadata": {},
   "outputs": [
    {
     "data": {
      "text/plain": [
       "array([1, 4, 9])"
      ]
     },
     "execution_count": 25,
     "metadata": {},
     "output_type": "execute_result"
    }
   ],
   "source": [
    "np.square(a1d)"
   ]
  },
  {
   "cell_type": "code",
   "execution_count": 26,
   "id": "a373060a-ad9e-4798-894a-ea4f39247ebf",
   "metadata": {},
   "outputs": [
    {
     "data": {
      "text/plain": [
       "array([[2., 3., 4.],\n",
       "       [2., 3., 4.]])"
      ]
     },
     "execution_count": 26,
     "metadata": {},
     "output_type": "execute_result"
    }
   ],
   "source": [
    " a1d + ones"
   ]
  },
  {
   "cell_type": "code",
   "execution_count": 27,
   "id": "ded0e702-5a05-4abb-85c5-2b851c7b6d28",
   "metadata": {},
   "outputs": [
    {
     "data": {
      "text/plain": [
       "array([[2., 3., 4.],\n",
       "       [2., 3., 4.]])"
      ]
     },
     "execution_count": 27,
     "metadata": {},
     "output_type": "execute_result"
    }
   ],
   "source": [
    "np.add(a1d,ones)"
   ]
  },
  {
   "cell_type": "code",
   "execution_count": 28,
   "id": "36ff5b51-ae97-432a-a970-e26241dd67be",
   "metadata": {},
   "outputs": [
    {
     "data": {
      "text/plain": [
       "array([[1, 0, 0],\n",
       "       [1, 0, 1]], dtype=int32)"
      ]
     },
     "execution_count": 28,
     "metadata": {},
     "output_type": "execute_result"
    }
   ],
   "source": [
    "a2d % 2"
   ]
  },
  {
   "cell_type": "markdown",
   "id": "167a6283-a2db-4cb5-b20d-b1fa59ea36c5",
   "metadata": {},
   "source": [
    "# Agregation"
   ]
  },
  {
   "cell_type": "code",
   "execution_count": 2,
   "id": "00d79535-1e92-4f69-83c2-44bb69d87b19",
   "metadata": {},
   "outputs": [
    {
     "ename": "NameError",
     "evalue": "name 'a1d' is not defined",
     "output_type": "error",
     "traceback": [
      "\u001b[1;31m---------------------------------------------------------------------------\u001b[0m",
      "\u001b[1;31mNameError\u001b[0m                                 Traceback (most recent call last)",
      "Cell \u001b[1;32mIn[2], line 1\u001b[0m\n\u001b[1;32m----> 1\u001b[0m a1d\n",
      "\u001b[1;31mNameError\u001b[0m: name 'a1d' is not defined"
     ]
    }
   ],
   "source": [
    "a1d  #matrix"
   ]
  },
  {
   "cell_type": "code",
   "execution_count": 35,
   "id": "ffbf0f4e-b95f-4043-9b81-2fcf23035efe",
   "metadata": {},
   "outputs": [
    {
     "data": {
      "text/plain": [
       "6"
      ]
     },
     "execution_count": 35,
     "metadata": {},
     "output_type": "execute_result"
    }
   ],
   "source": [
    "sum(a1d)     # this is python method , slow method"
   ]
  },
  {
   "cell_type": "code",
   "execution_count": 36,
   "id": "2f13caff-e95c-4de3-8629-4fb879bc8e42",
   "metadata": {},
   "outputs": [
    {
     "data": {
      "text/plain": [
       "6"
      ]
     },
     "execution_count": 36,
     "metadata": {},
     "output_type": "execute_result"
    }
   ],
   "source": [
    "np.sum(a1d)  # this is python method , fast method"
   ]
  },
  {
   "cell_type": "code",
   "execution_count": 48,
   "id": "7cc64c6c-5c84-41d1-993c-cf94563dd21d",
   "metadata": {},
   "outputs": [],
   "source": [
    "array = np.random.random(10000)"
   ]
  },
  {
   "cell_type": "code",
   "execution_count": 49,
   "id": "f78866dc-fda1-4cc8-8da4-ac580fef0ab0",
   "metadata": {},
   "outputs": [
    {
     "data": {
      "text/plain": [
       "array([0.36410551, 0.79908804, 0.53190906, ..., 0.1847571 , 0.6055804 ,\n",
       "       0.93464506])"
      ]
     },
     "execution_count": 49,
     "metadata": {},
     "output_type": "execute_result"
    }
   ],
   "source": [
    "array"
   ]
  },
  {
   "cell_type": "code",
   "execution_count": 50,
   "id": "4b0acf11-a278-468c-8ece-91262dc26c1e",
   "metadata": {},
   "outputs": [
    {
     "data": {
      "text/plain": [
       "10000"
      ]
     },
     "execution_count": 50,
     "metadata": {},
     "output_type": "execute_result"
    }
   ],
   "source": [
    "array.size"
   ]
  },
  {
   "cell_type": "code",
   "execution_count": 53,
   "id": "c2c9829f-1cd3-4259-b224-761b24eba8c5",
   "metadata": {},
   "outputs": [
    {
     "name": "stdout",
     "output_type": "stream",
     "text": [
      "3.26 ms ± 780 μs per loop (mean ± std. dev. of 7 runs, 100 loops each)\n",
      "25.9 μs ± 6.44 μs per loop (mean ± std. dev. of 7 runs, 100,000 loops each)\n"
     ]
    }
   ],
   "source": [
    "%timeit sum(array)       #python sum\n",
    "%timeit np.sum(array)    #np sum"
   ]
  },
  {
   "cell_type": "code",
   "execution_count": 54,
   "id": "edc1fccc-549d-41b5-b076-34b31f3555d1",
   "metadata": {},
   "outputs": [
    {
     "data": {
      "text/plain": [
       "3"
      ]
     },
     "execution_count": 54,
     "metadata": {},
     "output_type": "execute_result"
    }
   ],
   "source": [
    "np.max(a1d)"
   ]
  },
  {
   "cell_type": "code",
   "execution_count": 55,
   "id": "6cc05e19-ca72-4113-8bc2-1c74ca030aca",
   "metadata": {},
   "outputs": [
    {
     "data": {
      "text/plain": [
       "1"
      ]
     },
     "execution_count": 55,
     "metadata": {},
     "output_type": "execute_result"
    }
   ],
   "source": [
    "np.min(a1d)"
   ]
  },
  {
   "cell_type": "code",
   "execution_count": 56,
   "id": "918cf3e3-a976-4504-b932-fd9c372e9712",
   "metadata": {},
   "outputs": [],
   "source": [
    "#mean\n",
    "#standard daviation\n",
    "#varience"
   ]
  },
  {
   "cell_type": "code",
   "execution_count": 5,
   "id": "54060eea-627b-4d29-92fa-d2f3a0ab1b5e",
   "metadata": {},
   "outputs": [],
   "source": [
    "a1d = np.array([1,2,3])"
   ]
  },
  {
   "cell_type": "code",
   "execution_count": 6,
   "id": "1f92f7fd-f5fd-4da2-8958-0871a9c85d8c",
   "metadata": {},
   "outputs": [
    {
     "data": {
      "text/plain": [
       "array([1, 2, 3])"
      ]
     },
     "execution_count": 6,
     "metadata": {},
     "output_type": "execute_result"
    }
   ],
   "source": [
    "a1d"
   ]
  },
  {
   "cell_type": "code",
   "execution_count": 8,
   "id": "5d415900-397a-48bc-a4f8-e2db5750720f",
   "metadata": {},
   "outputs": [
    {
     "data": {
      "text/plain": [
       "0.6666666666666666"
      ]
     },
     "execution_count": 8,
     "metadata": {},
     "output_type": "execute_result"
    }
   ],
   "source": [
    "np.var(a1d)"
   ]
  },
  {
   "cell_type": "code",
   "execution_count": 9,
   "id": "0e8c4f76-3a37-4cc8-aa9b-7c882566f733",
   "metadata": {},
   "outputs": [
    {
     "data": {
      "text/plain": [
       "2.0"
      ]
     },
     "execution_count": 9,
     "metadata": {},
     "output_type": "execute_result"
    }
   ],
   "source": [
    "np.mean(a1d)"
   ]
  },
  {
   "cell_type": "code",
   "execution_count": 15,
   "id": "339ce649-aeeb-4e4c-9093-03b83e5aafb3",
   "metadata": {},
   "outputs": [
    {
     "data": {
      "text/plain": [
       "0.816496580927726"
      ]
     },
     "execution_count": 15,
     "metadata": {},
     "output_type": "execute_result"
    }
   ],
   "source": [
    "np.sqrt(np.var(a1d)) # standard deviation manually "
   ]
  },
  {
   "cell_type": "code",
   "execution_count": 16,
   "id": "22b6a44a-92a5-46da-9c6e-b421e55ea316",
   "metadata": {},
   "outputs": [
    {
     "data": {
      "text/plain": [
       "0.816496580927726"
      ]
     },
     "execution_count": 16,
     "metadata": {},
     "output_type": "execute_result"
    }
   ],
   "source": [
    "np.std(a1d)     # standard deviation function"
   ]
  },
  {
   "cell_type": "raw",
   "id": "66d07004-089e-4801-acb6-3e171d78590c",
   "metadata": {},
   "source": [
    "varience = (x - x^)/N           x^ -> mean , x -> the distance away form mean , N-> number of elements in a matrix or vector"
   ]
  },
  {
   "cell_type": "raw",
   "id": "d33e30f2-a97f-44fa-8ef1-d11eebe1a8f7",
   "metadata": {},
   "source": [
    "Standard deviation = ((x - x^)/N)^1/2      -> square root of varience"
   ]
  },
  {
   "cell_type": "code",
   "execution_count": null,
   "id": "1030f289-fc1d-4312-bff8-aae483e604ad",
   "metadata": {},
   "outputs": [],
   "source": []
  }
 ],
 "metadata": {
  "kernelspec": {
   "display_name": "Python 3 (ipykernel)",
   "language": "python",
   "name": "python3"
  },
  "language_info": {
   "codemirror_mode": {
    "name": "ipython",
    "version": 3
   },
   "file_extension": ".py",
   "mimetype": "text/x-python",
   "name": "python",
   "nbconvert_exporter": "python",
   "pygments_lexer": "ipython3",
   "version": "3.12.7"
  }
 },
 "nbformat": 4,
 "nbformat_minor": 5
}
