{
 "cells": [
  {
   "cell_type": "markdown",
   "id": "a1c7f3fd-eb00-4107-8078-42f6b1fb6d45",
   "metadata": {},
   "source": [
    "# Matrix Multiplication\n",
    "### Dot product vs Element Wise multiplication"
   ]
  },
  {
   "cell_type": "code",
   "execution_count": 1,
   "id": "fa3d2f2e-ed6d-4456-ab2e-4ddd35668a2c",
   "metadata": {},
   "outputs": [],
   "source": [
    "import numpy as np"
   ]
  },
  {
   "cell_type": "code",
   "execution_count": 14,
   "id": "b199c319-1881-4340-b0b4-2f132af72d3a",
   "metadata": {},
   "outputs": [],
   "source": [
    "np.random.seed(0)\n",
    "matrix_1 = np.random.randint(1,10,size=(4,3))\n",
    "matrix_2 = np.random.randint(1,10,size=(4,3))"
   ]
  },
  {
   "cell_type": "code",
   "execution_count": 15,
   "id": "f38bb36c-63d4-4f38-a192-966bc28b0567",
   "metadata": {},
   "outputs": [
    {
     "data": {
      "text/plain": [
       "array([[6, 1, 4],\n",
       "       [4, 8, 4],\n",
       "       [6, 3, 5],\n",
       "       [8, 7, 9]])"
      ]
     },
     "execution_count": 15,
     "metadata": {},
     "output_type": "execute_result"
    }
   ],
   "source": [
    "matrix_1"
   ]
  },
  {
   "cell_type": "code",
   "execution_count": 16,
   "id": "26f82572-0e5b-44e5-ae2d-406397df5ad2",
   "metadata": {},
   "outputs": [
    {
     "data": {
      "text/plain": [
       "array([[9, 2, 7],\n",
       "       [8, 8, 9],\n",
       "       [2, 6, 9],\n",
       "       [5, 4, 1]])"
      ]
     },
     "execution_count": 16,
     "metadata": {},
     "output_type": "execute_result"
    }
   ],
   "source": [
    "matrix_2"
   ]
  },
  {
   "cell_type": "code",
   "execution_count": 17,
   "id": "e864a414-210a-462e-8d20-c5edb9fe4670",
   "metadata": {},
   "outputs": [],
   "source": [
    "element_product = matrix_1 * matrix_2"
   ]
  },
  {
   "cell_type": "code",
   "execution_count": 18,
   "id": "6cdbe28b-84bf-4d59-8a7a-77173a558f2a",
   "metadata": {},
   "outputs": [
    {
     "data": {
      "text/plain": [
       "array([[54,  2, 28],\n",
       "       [32, 64, 36],\n",
       "       [12, 18, 45],\n",
       "       [40, 28,  9]])"
      ]
     },
     "execution_count": 18,
     "metadata": {},
     "output_type": "execute_result"
    }
   ],
   "source": [
    "element_product"
   ]
  },
  {
   "cell_type": "code",
   "execution_count": 19,
   "id": "0a23ef2d-2085-4726-a08f-d9be0629bf9d",
   "metadata": {},
   "outputs": [
    {
     "ename": "ValueError",
     "evalue": "shapes (4,3) and (4,3) not aligned: 3 (dim 1) != 4 (dim 0)",
     "output_type": "error",
     "traceback": [
      "\u001b[1;31m---------------------------------------------------------------------------\u001b[0m",
      "\u001b[1;31mValueError\u001b[0m                                Traceback (most recent call last)",
      "Cell \u001b[1;32mIn[19], line 1\u001b[0m\n\u001b[1;32m----> 1\u001b[0m matrix_1\u001b[38;5;241m.\u001b[39mdot(matrix_2)\n",
      "\u001b[1;31mValueError\u001b[0m: shapes (4,3) and (4,3) not aligned: 3 (dim 1) != 4 (dim 0)"
     ]
    }
   ],
   "source": [
    "matrix_1.dot(matrix_2)"
   ]
  },
  {
   "cell_type": "code",
   "execution_count": 21,
   "id": "348818c5-8e5d-4085-b71b-18f23340e757",
   "metadata": {},
   "outputs": [
    {
     "data": {
      "text/plain": [
       "array([[ 84,  92,  54,  38],\n",
       "       [ 80, 132,  92,  56],\n",
       "       [ 95, 117,  75,  47],\n",
       "       [149, 201, 139,  77]])"
      ]
     },
     "execution_count": 21,
     "metadata": {},
     "output_type": "execute_result"
    }
   ],
   "source": [
    "matrix_1.dot(matrix_2.T)\n",
    "#transpose calculate dot product:matrix_2.T"
   ]
  },
  {
   "cell_type": "code",
   "execution_count": 22,
   "id": "a167e637-f4ff-46b6-b4b6-a999a6d6caf6",
   "metadata": {},
   "outputs": [
    {
     "data": {
      "text/plain": [
       "array([[9, 8, 2, 5],\n",
       "       [2, 8, 6, 4],\n",
       "       [7, 9, 9, 1]])"
      ]
     },
     "execution_count": 22,
     "metadata": {},
     "output_type": "execute_result"
    }
   ],
   "source": [
    "matrix_2.T"
   ]
  },
  {
   "cell_type": "code",
   "execution_count": 6,
   "id": "1eb2dda5-55c7-4d87-b969-61c2f8aa535e",
   "metadata": {},
   "outputs": [],
   "source": [
    "np.random.seed(0)\n",
    "matrix = np.random.randint(1, 10 , size = (2,3))"
   ]
  },
  {
   "cell_type": "code",
   "execution_count": 7,
   "id": "67ef4fae-c6f7-4dc5-9362-61da4e158b92",
   "metadata": {},
   "outputs": [
    {
     "data": {
      "text/plain": [
       "array([[6, 1, 4],\n",
       "       [4, 8, 4]])"
      ]
     },
     "execution_count": 7,
     "metadata": {},
     "output_type": "execute_result"
    }
   ],
   "source": [
    "matrix"
   ]
  },
  {
   "cell_type": "code",
   "execution_count": 8,
   "id": "9792096f-cdcf-4d9e-ae92-5a8ad06aafb8",
   "metadata": {},
   "outputs": [
    {
     "data": {
      "text/plain": [
       "(2, 3)"
      ]
     },
     "execution_count": 8,
     "metadata": {},
     "output_type": "execute_result"
    }
   ],
   "source": [
    "matrix.shape"
   ]
  },
  {
   "cell_type": "code",
   "execution_count": 9,
   "id": "742fe587-cbc1-42a0-bad1-008802b4336a",
   "metadata": {},
   "outputs": [
    {
     "data": {
      "text/plain": [
       "array([[6, 4],\n",
       "       [1, 8],\n",
       "       [4, 4]])"
      ]
     },
     "execution_count": 9,
     "metadata": {},
     "output_type": "execute_result"
    }
   ],
   "source": [
    "matrix.T"
   ]
  },
  {
   "cell_type": "code",
   "execution_count": 11,
   "id": "935f5f50-aacc-473f-aeda-2d71bdb040a8",
   "metadata": {},
   "outputs": [
    {
     "data": {
      "text/plain": [
       "(3, 2)"
      ]
     },
     "execution_count": 11,
     "metadata": {},
     "output_type": "execute_result"
    }
   ],
   "source": [
    "matrix.T.shape"
   ]
  },
  {
   "cell_type": "code",
   "execution_count": 18,
   "id": "859a3f1e-a3d1-4ae1-82e9-1072072543ef",
   "metadata": {},
   "outputs": [
    {
     "data": {
      "text/plain": [
       "array([[[6],\n",
       "        [1]],\n",
       "\n",
       "       [[4],\n",
       "        [4]],\n",
       "\n",
       "       [[8],\n",
       "        [4]]])"
      ]
     },
     "execution_count": 18,
     "metadata": {},
     "output_type": "execute_result"
    }
   ],
   "source": [
    "# reshape\n",
    "matrix.reshape(3,2,1)"
   ]
  },
  {
   "cell_type": "code",
   "execution_count": 19,
   "id": "b0e54ffd-4202-45ec-86f0-d0d97c0b93e6",
   "metadata": {},
   "outputs": [
    {
     "data": {
      "text/plain": [
       "(3, 2, 1)"
      ]
     },
     "execution_count": 19,
     "metadata": {},
     "output_type": "execute_result"
    }
   ],
   "source": [
    "matrix.reshape(3,2,1).shape"
   ]
  },
  {
   "cell_type": "code",
   "execution_count": 3,
   "id": "0452c2af-3b16-4c7d-9737-92b047b4fe62",
   "metadata": {},
   "outputs": [
    {
     "data": {
      "text/plain": [
       "array([[12, 15,  0],\n",
       "       [ 3,  3,  7],\n",
       "       [ 9, 19, 18],\n",
       "       [ 4,  6, 12],\n",
       "       [ 1,  6,  7]])"
      ]
     },
     "execution_count": 3,
     "metadata": {},
     "output_type": "execute_result"
    }
   ],
   "source": [
    "np.random.seed(0)\n",
    "item_amount = np.random.randint(20, size = (5,3))\n",
    "item_amount"
   ]
  },
  {
   "cell_type": "code",
   "execution_count": 4,
   "id": "0fe5a53c-d028-4ecc-aef3-986610a79997",
   "metadata": {},
   "outputs": [
    {
     "data": {
      "text/plain": [
       "array([12,  8, 11])"
      ]
     },
     "execution_count": 4,
     "metadata": {},
     "output_type": "execute_result"
    }
   ],
   "source": [
    "item_price = np.array([12,8,11])\n",
    "item_price"
   ]
  },
  {
   "cell_type": "code",
   "execution_count": 5,
   "id": "40ffa3b9-fafe-441e-9618-8c9bf48f08ce",
   "metadata": {},
   "outputs": [],
   "source": [
    "import pandas as pd"
   ]
  },
  {
   "cell_type": "code",
   "execution_count": 6,
   "id": "592c2d49-51b8-45b1-a097-417afb45fac4",
   "metadata": {},
   "outputs": [],
   "source": [
    "item_price_df = pd.DataFrame(item_price.reshape(1,3),\n",
    "                            index = [\"item_price\"],\n",
    "                            columns= [\"item1\",\"item2\",\"item3\"])\n",
    "                            "
   ]
  },
  {
   "cell_type": "code",
   "execution_count": 7,
   "id": "7fa90d1e-bd6f-4a94-b3a3-58e14db7f3b3",
   "metadata": {},
   "outputs": [
    {
     "data": {
      "text/plain": [
       "(1, 3)"
      ]
     },
     "execution_count": 7,
     "metadata": {},
     "output_type": "execute_result"
    }
   ],
   "source": [
    "item_price_df.shape"
   ]
  },
  {
   "cell_type": "code",
   "execution_count": 8,
   "id": "412aea36-4b73-4cae-9a6b-28877350e260",
   "metadata": {},
   "outputs": [
    {
     "data": {
      "text/plain": [
       "((1, 3), (3, 5))"
      ]
     },
     "execution_count": 8,
     "metadata": {},
     "output_type": "execute_result"
    }
   ],
   "source": [
    "item_price_df.shape , item_amount.T.shape"
   ]
  },
  {
   "cell_type": "code",
   "execution_count": 21,
   "id": "436a87ec-6b11-4110-a53d-48d658c44495",
   "metadata": {},
   "outputs": [],
   "source": [
    "total_price = item_price.dot(item_amount.T)"
   ]
  },
  {
   "cell_type": "code",
   "execution_count": 22,
   "id": "827383e3-6a9b-4f24-8eff-4aa7469835d4",
   "metadata": {},
   "outputs": [
    {
     "data": {
      "text/plain": [
       "array([264, 137, 458, 228, 137])"
      ]
     },
     "execution_count": 22,
     "metadata": {},
     "output_type": "execute_result"
    }
   ],
   "source": [
    "total_price"
   ]
  },
  {
   "cell_type": "code",
   "execution_count": 23,
   "id": "fc0adc78-a432-4fc3-88da-2a783ed18332",
   "metadata": {},
   "outputs": [],
   "source": [
    "Weekly_sale = pd.DataFrame(item_amount,\n",
    "                       index=['MON',\"TUE\",\"WED\",\"THU\",\"FRI\"],\n",
    "                       columns=[\"item1\",\"item2\",\"item3\"])"
   ]
  },
  {
   "cell_type": "code",
   "execution_count": 24,
   "id": "fbf3ca66-deaa-43b0-8fd8-68ce694756ae",
   "metadata": {},
   "outputs": [
    {
     "data": {
      "text/html": [
       "<div>\n",
       "<style scoped>\n",
       "    .dataframe tbody tr th:only-of-type {\n",
       "        vertical-align: middle;\n",
       "    }\n",
       "\n",
       "    .dataframe tbody tr th {\n",
       "        vertical-align: top;\n",
       "    }\n",
       "\n",
       "    .dataframe thead th {\n",
       "        text-align: right;\n",
       "    }\n",
       "</style>\n",
       "<table border=\"1\" class=\"dataframe\">\n",
       "  <thead>\n",
       "    <tr style=\"text-align: right;\">\n",
       "      <th></th>\n",
       "      <th>item1</th>\n",
       "      <th>item2</th>\n",
       "      <th>item3</th>\n",
       "    </tr>\n",
       "  </thead>\n",
       "  <tbody>\n",
       "    <tr>\n",
       "      <th>MON</th>\n",
       "      <td>12</td>\n",
       "      <td>15</td>\n",
       "      <td>0</td>\n",
       "    </tr>\n",
       "    <tr>\n",
       "      <th>TUE</th>\n",
       "      <td>3</td>\n",
       "      <td>3</td>\n",
       "      <td>7</td>\n",
       "    </tr>\n",
       "    <tr>\n",
       "      <th>WED</th>\n",
       "      <td>9</td>\n",
       "      <td>19</td>\n",
       "      <td>18</td>\n",
       "    </tr>\n",
       "    <tr>\n",
       "      <th>THU</th>\n",
       "      <td>4</td>\n",
       "      <td>6</td>\n",
       "      <td>12</td>\n",
       "    </tr>\n",
       "    <tr>\n",
       "      <th>FRI</th>\n",
       "      <td>1</td>\n",
       "      <td>6</td>\n",
       "      <td>7</td>\n",
       "    </tr>\n",
       "  </tbody>\n",
       "</table>\n",
       "</div>"
      ],
      "text/plain": [
       "     item1  item2  item3\n",
       "MON     12     15      0\n",
       "TUE      3      3      7\n",
       "WED      9     19     18\n",
       "THU      4      6     12\n",
       "FRI      1      6      7"
      ]
     },
     "execution_count": 24,
     "metadata": {},
     "output_type": "execute_result"
    }
   ],
   "source": [
    "Weekly_sale"
   ]
  },
  {
   "cell_type": "code",
   "execution_count": 25,
   "id": "4921125c-d5c5-44bc-ac60-a1c8adbf1782",
   "metadata": {},
   "outputs": [],
   "source": [
    "Weekly_sale[\"item_price\"] = total_price.T"
   ]
  },
  {
   "cell_type": "code",
   "execution_count": 26,
   "id": "74577da9-0216-4654-8e4d-b7350bca2877",
   "metadata": {},
   "outputs": [
    {
     "data": {
      "text/html": [
       "<div>\n",
       "<style scoped>\n",
       "    .dataframe tbody tr th:only-of-type {\n",
       "        vertical-align: middle;\n",
       "    }\n",
       "\n",
       "    .dataframe tbody tr th {\n",
       "        vertical-align: top;\n",
       "    }\n",
       "\n",
       "    .dataframe thead th {\n",
       "        text-align: right;\n",
       "    }\n",
       "</style>\n",
       "<table border=\"1\" class=\"dataframe\">\n",
       "  <thead>\n",
       "    <tr style=\"text-align: right;\">\n",
       "      <th></th>\n",
       "      <th>item1</th>\n",
       "      <th>item2</th>\n",
       "      <th>item3</th>\n",
       "      <th>item_price</th>\n",
       "    </tr>\n",
       "  </thead>\n",
       "  <tbody>\n",
       "    <tr>\n",
       "      <th>MON</th>\n",
       "      <td>12</td>\n",
       "      <td>15</td>\n",
       "      <td>0</td>\n",
       "      <td>264</td>\n",
       "    </tr>\n",
       "    <tr>\n",
       "      <th>TUE</th>\n",
       "      <td>3</td>\n",
       "      <td>3</td>\n",
       "      <td>7</td>\n",
       "      <td>137</td>\n",
       "    </tr>\n",
       "    <tr>\n",
       "      <th>WED</th>\n",
       "      <td>9</td>\n",
       "      <td>19</td>\n",
       "      <td>18</td>\n",
       "      <td>458</td>\n",
       "    </tr>\n",
       "    <tr>\n",
       "      <th>THU</th>\n",
       "      <td>4</td>\n",
       "      <td>6</td>\n",
       "      <td>12</td>\n",
       "      <td>228</td>\n",
       "    </tr>\n",
       "    <tr>\n",
       "      <th>FRI</th>\n",
       "      <td>1</td>\n",
       "      <td>6</td>\n",
       "      <td>7</td>\n",
       "      <td>137</td>\n",
       "    </tr>\n",
       "  </tbody>\n",
       "</table>\n",
       "</div>"
      ],
      "text/plain": [
       "     item1  item2  item3  item_price\n",
       "MON     12     15      0         264\n",
       "TUE      3      3      7         137\n",
       "WED      9     19     18         458\n",
       "THU      4      6     12         228\n",
       "FRI      1      6      7         137"
      ]
     },
     "execution_count": 26,
     "metadata": {},
     "output_type": "execute_result"
    }
   ],
   "source": [
    "Weekly_sale"
   ]
  },
  {
   "cell_type": "markdown",
   "id": "5416947e-1078-4f12-a3d2-c59fe42a78f6",
   "metadata": {},
   "source": [
    "# Sorting"
   ]
  },
  {
   "cell_type": "code",
   "execution_count": 2,
   "id": "41c428ea-af20-4063-9eee-e296b9823665",
   "metadata": {},
   "outputs": [],
   "source": [
    "np.random.seed(0)\n",
    "matrix = np.random.randint(10,size = (3,5))"
   ]
  },
  {
   "cell_type": "code",
   "execution_count": 3,
   "id": "f2a20e97-6e7f-44b1-b282-7a2e81e47ad0",
   "metadata": {},
   "outputs": [
    {
     "data": {
      "text/plain": [
       "array([[5, 0, 3, 3, 7],\n",
       "       [9, 3, 5, 2, 4],\n",
       "       [7, 6, 8, 8, 1]])"
      ]
     },
     "execution_count": 3,
     "metadata": {},
     "output_type": "execute_result"
    }
   ],
   "source": [
    "matrix"
   ]
  },
  {
   "cell_type": "code",
   "execution_count": 4,
   "id": "6b1af571-f6dd-4841-8806-b35625367084",
   "metadata": {},
   "outputs": [
    {
     "data": {
      "text/plain": [
       "array([[0, 3, 3, 5, 7],\n",
       "       [2, 3, 4, 5, 9],\n",
       "       [1, 6, 7, 8, 8]])"
      ]
     },
     "execution_count": 4,
     "metadata": {},
     "output_type": "execute_result"
    }
   ],
   "source": [
    "np.sort(matrix)"
   ]
  },
  {
   "cell_type": "code",
   "execution_count": 7,
   "id": "7346c5b5-7ee6-40f0-b646-18561c66cbaa",
   "metadata": {},
   "outputs": [
    {
     "data": {
      "text/plain": [
       "array([[0, 3, 3, 5, 7],\n",
       "       [2, 3, 4, 5, 9],\n",
       "       [1, 6, 7, 8, 8]])"
      ]
     },
     "execution_count": 7,
     "metadata": {},
     "output_type": "execute_result"
    }
   ],
   "source": [
    "np.sort(matrix , axis=1)"
   ]
  },
  {
   "cell_type": "code",
   "execution_count": 8,
   "id": "0ab207b5-f0df-4697-8baa-398c30c2a893",
   "metadata": {},
   "outputs": [
    {
     "data": {
      "text/plain": [
       "array([[5, 0, 3, 2, 1],\n",
       "       [7, 3, 5, 3, 4],\n",
       "       [9, 6, 8, 8, 7]])"
      ]
     },
     "execution_count": 8,
     "metadata": {},
     "output_type": "execute_result"
    }
   ],
   "source": [
    "np.sort(matrix , axis=0)"
   ]
  },
  {
   "cell_type": "code",
   "execution_count": 10,
   "id": "c281e871-5ea8-4df8-930a-a08d9353bbf2",
   "metadata": {},
   "outputs": [
    {
     "data": {
      "text/plain": [
       "array([[5, 0, 3, 3, 7],\n",
       "       [9, 3, 5, 2, 4],\n",
       "       [7, 6, 8, 8, 1]])"
      ]
     },
     "execution_count": 10,
     "metadata": {},
     "output_type": "execute_result"
    }
   ],
   "source": [
    "matrix"
   ]
  },
  {
   "cell_type": "code",
   "execution_count": 11,
   "id": "036e7bf1-41b2-4d0b-b713-edb95d2ca0de",
   "metadata": {},
   "outputs": [
    {
     "data": {
      "text/plain": [
       "array([[1, 2, 3, 0, 4],\n",
       "       [3, 1, 4, 2, 0],\n",
       "       [4, 1, 0, 2, 3]], dtype=int64)"
      ]
     },
     "execution_count": 11,
     "metadata": {},
     "output_type": "execute_result"
    }
   ],
   "source": [
    "np.argsort(matrix)    # return index of the matrix after sorting"
   ]
  },
  {
   "cell_type": "code",
   "execution_count": 33,
   "id": "4171ce84-b7d7-4ced-a944-4da7c2c81e5e",
   "metadata": {},
   "outputs": [
    {
     "data": {
      "text/plain": [
       "1"
      ]
     },
     "execution_count": 33,
     "metadata": {},
     "output_type": "execute_result"
    }
   ],
   "source": [
    "np.argmin(matrix)  # gives index of the minimum element"
   ]
  },
  {
   "cell_type": "code",
   "execution_count": 30,
   "id": "45adb7db-8503-4731-8f30-e13a8f212412",
   "metadata": {},
   "outputs": [
    {
     "data": {
      "text/plain": [
       "array([1, 3, 4], dtype=int64)"
      ]
     },
     "execution_count": 30,
     "metadata": {},
     "output_type": "execute_result"
    }
   ],
   "source": [
    "np.argmin(matrix, axis=1)"
   ]
  },
  {
   "cell_type": "code",
   "execution_count": 31,
   "id": "9f05f6ab-76e6-4d67-a49b-178a133e5b08",
   "metadata": {},
   "outputs": [
    {
     "data": {
      "text/plain": [
       "array([0, 0, 0, 1, 2], dtype=int64)"
      ]
     },
     "execution_count": 31,
     "metadata": {},
     "output_type": "execute_result"
    }
   ],
   "source": [
    "np.argmin(matrix, axis = 0)"
   ]
  },
  {
   "cell_type": "code",
   "execution_count": 32,
   "id": "86d9932b-74be-46f3-960c-17c474538d75",
   "metadata": {},
   "outputs": [
    {
     "data": {
      "text/plain": [
       "array([[5, 0, 3, 3, 7],\n",
       "       [9, 3, 5, 2, 4],\n",
       "       [7, 6, 8, 8, 1]])"
      ]
     },
     "execution_count": 32,
     "metadata": {},
     "output_type": "execute_result"
    }
   ],
   "source": [
    "matrix"
   ]
  },
  {
   "cell_type": "code",
   "execution_count": 34,
   "id": "3bf1552c-74d7-4ecd-a79d-e2a91fcaa474",
   "metadata": {},
   "outputs": [
    {
     "data": {
      "text/plain": [
       "5"
      ]
     },
     "execution_count": 34,
     "metadata": {},
     "output_type": "execute_result"
    }
   ],
   "source": [
    "np.argmax(matrix)"
   ]
  },
  {
   "cell_type": "code",
   "execution_count": 35,
   "id": "0f5b8dc1-8728-4081-9f02-4a100264b2a7",
   "metadata": {},
   "outputs": [
    {
     "data": {
      "text/plain": [
       "array([4, 0, 2], dtype=int64)"
      ]
     },
     "execution_count": 35,
     "metadata": {},
     "output_type": "execute_result"
    }
   ],
   "source": [
    "np.argmax(matrix, axis =1)"
   ]
  },
  {
   "cell_type": "code",
   "execution_count": 38,
   "id": "73ac7ebe-e6cc-4121-866e-2d173874c7dc",
   "metadata": {},
   "outputs": [
    {
     "data": {
      "text/plain": [
       "array([1, 2, 2, 2, 0], dtype=int64)"
      ]
     },
     "execution_count": 38,
     "metadata": {},
     "output_type": "execute_result"
    }
   ],
   "source": [
    "np.argmax( matrix , axis= 0)"
   ]
  },
  {
   "cell_type": "code",
   "execution_count": 39,
   "id": "ab5676fd-c98e-4b96-a34f-0672d8f99cef",
   "metadata": {},
   "outputs": [],
   "source": [
    "# axis == 1 mean rows\n",
    "# axis == 0 mean columns"
   ]
  },
  {
   "cell_type": "markdown",
   "id": "75d93113-4dd0-477c-9c31-c7f72e4fb3a7",
   "metadata": {},
   "source": [
    "# Image READ"
   ]
  },
  {
   "cell_type": "code",
   "execution_count": 42,
   "id": "53fab36c-dfac-41b2-9537-0b241f6307b3",
   "metadata": {},
   "outputs": [],
   "source": [
    "from matplotlib.image import imread     #matplotlib is similar to matlab"
   ]
  },
  {
   "cell_type": "code",
   "execution_count": 60,
   "id": "0118b454-8925-49c6-9b15-8e49418ae411",
   "metadata": {},
   "outputs": [],
   "source": [
    "img_data = imread(\"hamid.jpg\")"
   ]
  },
  {
   "cell_type": "code",
   "execution_count": 61,
   "id": "bf0ee829-ccbb-4358-bea6-634d5de29625",
   "metadata": {},
   "outputs": [
    {
     "data": {
      "text/plain": [
       "array([[[  0, 170, 255],\n",
       "        [  0, 170, 255],\n",
       "        [  0, 170, 255],\n",
       "        ...,\n",
       "        [  0, 170, 255],\n",
       "        [  0, 170, 255],\n",
       "        [  0, 170, 255]],\n",
       "\n",
       "       [[  0, 170, 255],\n",
       "        [  0, 170, 255],\n",
       "        [  0, 170, 255],\n",
       "        ...,\n",
       "        [  0, 170, 255],\n",
       "        [  0, 170, 255],\n",
       "        [  0, 170, 255]],\n",
       "\n",
       "       [[  0, 170, 255],\n",
       "        [  0, 170, 255],\n",
       "        [  0, 170, 255],\n",
       "        ...,\n",
       "        [  0, 170, 255],\n",
       "        [  0, 170, 255],\n",
       "        [  0, 170, 255]],\n",
       "\n",
       "       ...,\n",
       "\n",
       "       [[228, 228, 230],\n",
       "        [228, 228, 230],\n",
       "        [229, 229, 229],\n",
       "        ...,\n",
       "        [223, 223, 223],\n",
       "        [203, 201, 202],\n",
       "        [214, 209, 213]],\n",
       "\n",
       "       [[234, 234, 236],\n",
       "        [230, 230, 232],\n",
       "        [229, 229, 229],\n",
       "        ...,\n",
       "        [212, 212, 212],\n",
       "        [203, 201, 204],\n",
       "        [223, 221, 224]],\n",
       "\n",
       "       [[232, 232, 232],\n",
       "        [232, 232, 232],\n",
       "        [231, 231, 233],\n",
       "        ...,\n",
       "        [203, 201, 204],\n",
       "        [213, 210, 217],\n",
       "        [229, 229, 231]]], dtype=uint8)"
      ]
     },
     "execution_count": 61,
     "metadata": {},
     "output_type": "execute_result"
    }
   ],
   "source": [
    "img_data"
   ]
  },
  {
   "cell_type": "code",
   "execution_count": 63,
   "id": "9459c130-96c8-43b2-97fd-632393771506",
   "metadata": {},
   "outputs": [],
   "source": [
    "import matplotlib.pyplot as plt "
   ]
  },
  {
   "cell_type": "code",
   "execution_count": 65,
   "id": "6d58a96a-699b-4959-87aa-901c22a03013",
   "metadata": {},
   "outputs": [
    {
     "data": {
      "text/plain": [
       "<function matplotlib.pyplot.show(close=None, block=None)>"
      ]
     },
     "execution_count": 65,
     "metadata": {},
     "output_type": "execute_result"
    },
    {
     "data": {
      "image/png": "[encoded data removed]",
      "text/plain": [
       "<Figure size 640x480 with 1 Axes>"
      ]
     },
     "metadata": {},
     "output_type": "display_data"
    }
   ],
   "source": [
    "plt.figure()\n",
    "plt.imshow(img_data)\n",
    "plt.show"
   ]
  },
  {
   "cell_type": "code",
   "execution_count": 66,
   "id": "ad7a7dca-fd61-4f36-81c4-df3ae194100a",
   "metadata": {},
   "outputs": [
    {
     "data": {
      "text/plain": [
       "(540, 420, 3)"
      ]
     },
     "execution_count": 66,
     "metadata": {},
     "output_type": "execute_result"
    }
   ],
   "source": [
    "img_data.shape"
   ]
  },
  {
   "cell_type": "code",
   "execution_count": null,
   "id": "ca117df4-3a1a-46ed-aa2b-311978dc4222",
   "metadata": {},
   "outputs": [],
   "source": []
  }
 ],
 "metadata": {
  "kernelspec": {
   "display_name": "Python 3 (ipykernel)",
   "language": "python",
   "name": "python3"
  },
  "language_info": {
   "codemirror_mode": {
    "name": "ipython",
    "version": 3
   },
   "file_extension": ".py",
   "mimetype": "text/x-python",
   "name": "python",
   "nbconvert_exporter": "python",
   "pygments_lexer": "ipython3",
   "version": "3.12.7"
  }
 },
 "nbformat": 4,
 "nbformat_minor": 5
}
