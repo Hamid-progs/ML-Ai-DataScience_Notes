{
 "cells": [
  {
   "cell_type": "code",
   "execution_count": 1,
   "id": "cce1f3f5-1f8a-45b3-876d-1e3433776315",
   "metadata": {},
   "outputs": [],
   "source": [
    "import pandas as pd \n",
    "import numpy as np \n",
    "import matplotlib.pyplot as plt \n",
    "import seaborn as sns\n"
   ]
  },
  {
   "cell_type": "markdown",
   "id": "bba1af2d-01e1-4839-9b23-b91a99fd13d1",
   "metadata": {},
   "source": [
    "# Classification Model Evaluation\n",
    "# Accuracy\n",
    "# Area Under the Curve ROC\n",
    "# Confussion Matrix\n",
    "# Classification report\n",
    "\n",
    "\n",
    "## Accuracy:"
   ]
  },
  {
   "cell_type": "code",
   "execution_count": 34,
   "id": "2f174732-d341-46ce-a3bb-f244298c17c2",
   "metadata": {},
   "outputs": [],
   "source": [
    "df = pd.read_csv(\"cleanHeartData.csv\")"
   ]
  },
  {
   "cell_type": "code",
   "execution_count": 35,
   "id": "627ccc3d-f03c-4057-a3e9-f66de9c7f385",
   "metadata": {},
   "outputs": [],
   "source": [
    "df = df.drop(\"Unnamed: 0\", axis = 1)\n",
    "df = df.drop_duplicates()"
   ]
  },
  {
   "cell_type": "code",
   "execution_count": 36,
   "id": "5611612e-df80-4cea-b3b4-be95ecac3640",
   "metadata": {},
   "outputs": [
    {
     "data": {
      "text/html": [
       "<div>\n",
       "<style scoped>\n",
       "    .dataframe tbody tr th:only-of-type {\n",
       "        vertical-align: middle;\n",
       "    }\n",
       "\n",
       "    .dataframe tbody tr th {\n",
       "        vertical-align: top;\n",
       "    }\n",
       "\n",
       "    .dataframe thead th {\n",
       "        text-align: right;\n",
       "    }\n",
       "</style>\n",
       "<table border=\"1\" class=\"dataframe\">\n",
       "  <thead>\n",
       "    <tr style=\"text-align: right;\">\n",
       "      <th></th>\n",
       "      <th>age</th>\n",
       "      <th>sex</th>\n",
       "      <th>resting_blood_pressure</th>\n",
       "      <th>cholestoral</th>\n",
       "      <th>fasting_blood_sugar</th>\n",
       "      <th>Max_heart_rate</th>\n",
       "      <th>exercise_induced_angina</th>\n",
       "      <th>oldpeak</th>\n",
       "      <th>target</th>\n",
       "    </tr>\n",
       "  </thead>\n",
       "  <tbody>\n",
       "    <tr>\n",
       "      <th>0</th>\n",
       "      <td>52</td>\n",
       "      <td>1</td>\n",
       "      <td>125</td>\n",
       "      <td>212</td>\n",
       "      <td>0</td>\n",
       "      <td>168</td>\n",
       "      <td>0</td>\n",
       "      <td>1.0</td>\n",
       "      <td>0</td>\n",
       "    </tr>\n",
       "    <tr>\n",
       "      <th>1</th>\n",
       "      <td>53</td>\n",
       "      <td>1</td>\n",
       "      <td>140</td>\n",
       "      <td>203</td>\n",
       "      <td>1</td>\n",
       "      <td>155</td>\n",
       "      <td>1</td>\n",
       "      <td>3.1</td>\n",
       "      <td>0</td>\n",
       "    </tr>\n",
       "    <tr>\n",
       "      <th>2</th>\n",
       "      <td>70</td>\n",
       "      <td>1</td>\n",
       "      <td>145</td>\n",
       "      <td>174</td>\n",
       "      <td>0</td>\n",
       "      <td>125</td>\n",
       "      <td>1</td>\n",
       "      <td>2.6</td>\n",
       "      <td>0</td>\n",
       "    </tr>\n",
       "    <tr>\n",
       "      <th>3</th>\n",
       "      <td>61</td>\n",
       "      <td>1</td>\n",
       "      <td>148</td>\n",
       "      <td>203</td>\n",
       "      <td>0</td>\n",
       "      <td>161</td>\n",
       "      <td>0</td>\n",
       "      <td>0.0</td>\n",
       "      <td>0</td>\n",
       "    </tr>\n",
       "    <tr>\n",
       "      <th>4</th>\n",
       "      <td>62</td>\n",
       "      <td>0</td>\n",
       "      <td>138</td>\n",
       "      <td>294</td>\n",
       "      <td>1</td>\n",
       "      <td>106</td>\n",
       "      <td>0</td>\n",
       "      <td>1.9</td>\n",
       "      <td>0</td>\n",
       "    </tr>\n",
       "  </tbody>\n",
       "</table>\n",
       "</div>"
      ],
      "text/plain": [
       "   age  sex  resting_blood_pressure  cholestoral  fasting_blood_sugar  \\\n",
       "0   52    1                     125          212                    0   \n",
       "1   53    1                     140          203                    1   \n",
       "2   70    1                     145          174                    0   \n",
       "3   61    1                     148          203                    0   \n",
       "4   62    0                     138          294                    1   \n",
       "\n",
       "   Max_heart_rate  exercise_induced_angina  oldpeak  target  \n",
       "0             168                        0      1.0       0  \n",
       "1             155                        1      3.1       0  \n",
       "2             125                        1      2.6       0  \n",
       "3             161                        0      0.0       0  \n",
       "4             106                        0      1.9       0  "
      ]
     },
     "execution_count": 36,
     "metadata": {},
     "output_type": "execute_result"
    }
   ],
   "source": [
    "df.head()"
   ]
  },
  {
   "cell_type": "code",
   "execution_count": 37,
   "id": "3fb2baca-226e-4024-8dbb-8308205cc18e",
   "metadata": {},
   "outputs": [
    {
     "data": {
      "text/plain": [
       "(302, 9)"
      ]
     },
     "execution_count": 37,
     "metadata": {},
     "output_type": "execute_result"
    }
   ],
   "source": [
    "df.shape"
   ]
  },
  {
   "cell_type": "code",
   "execution_count": 38,
   "id": "4a44376e-f3ac-40ce-9724-87e6cb7f028b",
   "metadata": {},
   "outputs": [
    {
     "data": {
      "text/plain": [
       "0.7813114754098361"
      ]
     },
     "execution_count": 38,
     "metadata": {},
     "output_type": "execute_result"
    }
   ],
   "source": [
    "from sklearn.ensemble import RandomForestClassifier\n",
    "from sklearn.model_selection import train_test_split\n",
    "np.random.seed()\n",
    "\n",
    "x = df.drop('target',axis=1) # using heart disease data\n",
    "y = df['target']\n",
    "\n",
    "x_train,x_test,y_train,y_test = train_test_split(x,y,test_size=0.2)\n",
    "\n",
    "model =  RandomForestClassifier().fit(x_train,y_train)\n",
    "\n",
    "model.score(x_test,y_test)\n",
    "\n",
    "from sklearn.model_selection import cross_val_score\n",
    "np.mean(cross_val_score(model, x,y , cv = 5 , scoring= None))"
   ]
  },
  {
   "cell_type": "markdown",
   "id": "0e3d0bfa-2856-4b0e-87bb-05a3b8201929",
   "metadata": {},
   "source": [
    "# ROC Curve"
   ]
  },
  {
   "cell_type": "code",
   "execution_count": 7,
   "id": "e88cf077-3a2b-4323-9d15-100dca5b2231",
   "metadata": {},
   "outputs": [],
   "source": [
    "#create test train data \n",
    "from sklearn.ensemble import RandomForestClassifier\n",
    "from sklearn.model_selection import train_test_split\n",
    "\n",
    "from sklearn.metrics import roc_curve\n",
    "\n",
    "x = df.drop('target',axis=1) # using heart disease data\n",
    "y = df['target']\n",
    "\n",
    "x_train,x_test,y_train,y_test = train_test_split(x,y,test_size=0.2)\n",
    "\n",
    "clf = RandomForestClassifier()\n",
    "model = clf.fit(x_train,y_train)\n",
    "\n",
    "y_probab = clf.predict_proba(x_test)"
   ]
  },
  {
   "cell_type": "code",
   "execution_count": 8,
   "id": "8fd2bf59-7e9d-4f71-b06e-705121e2406b",
   "metadata": {},
   "outputs": [],
   "source": [
    "y_probab_p = y_probab[:,1]"
   ]
  },
  {
   "cell_type": "code",
   "execution_count": 9,
   "id": "808da18e-a04a-4a75-9439-6298912b81ae",
   "metadata": {},
   "outputs": [],
   "source": [
    "# True positive :  Truth  = 1  , Model = 1\n",
    "# False positive :  Truth  = 0  , Model = 1\n",
    "# True negitive :  Truth  = 0  , Model = 0\n",
    "# False negitive :  Truth  = 1  , Model = 0"
   ]
  },
  {
   "cell_type": "code",
   "execution_count": 10,
   "id": "626ae825-9fa3-4392-b9bb-4473f68f4048",
   "metadata": {},
   "outputs": [],
   "source": [
    "# calculate fpr , tpr , threshold : \n",
    "fpr, tpr, threshold = roc_curve(y_test, y_probab_p)"
   ]
  },
  {
   "cell_type": "code",
   "execution_count": 11,
   "id": "340f1298-6cbb-4840-8d49-1a7089f4c59f",
   "metadata": {},
   "outputs": [
    {
     "data": {
      "text/plain": [
       "array([0.        , 0.        , 0.        , 0.        , 0.        ,\n",
       "       0.        , 0.        , 0.04545455, 0.04545455, 0.04545455,\n",
       "       0.04545455, 0.04545455, 0.04545455, 0.09090909, 0.09090909,\n",
       "       0.13636364, 0.13636364, 0.18181818, 0.18181818, 0.22727273,\n",
       "       0.22727273, 0.40909091, 0.40909091, 0.45454545, 0.5       ,\n",
       "       0.54545455, 0.59090909, 0.68181818, 1.        ])"
      ]
     },
     "execution_count": 11,
     "metadata": {},
     "output_type": "execute_result"
    }
   ],
   "source": [
    "fpr"
   ]
  },
  {
   "cell_type": "code",
   "execution_count": 12,
   "id": "7fabfb51-f1e8-4810-abff-5ae96c38ce4c",
   "metadata": {},
   "outputs": [],
   "source": [
    "#create a function for ploting  using matplot lib\n",
    "def plot_roc(fpr,tpr):\n",
    "\n",
    "    # plot roc curve\n",
    "    plt.plot(fpr,tpr,color= \"red\",label = \"ROC\")\n",
    "\n",
    "    #coustomization\n",
    "    plt.title(\"Area Under the ROC Curve\")\n",
    "    plt.xlabel(\"False Positive Rate (fpr)\")\n",
    "    plt.ylabel(\"True Positive Curve (tpr)\")\n",
    "    plt.legend()\n",
    "    plt.show()"
   ]
  },
  {
   "cell_type": "code",
   "execution_count": 13,
   "id": "780b7a5f-ab38-4fc5-98f7-b6240477ff00",
   "metadata": {},
   "outputs": [
    {
     "data": {
      "image/png": "[encoded data removed]",
      "text/plain": [
       "<Figure size 640x480 with 1 Axes>"
      ]
     },
     "metadata": {},
     "output_type": "display_data"
    }
   ],
   "source": [
    "plot_roc(fpr,tpr)"
   ]
  },
  {
   "cell_type": "code",
   "execution_count": 14,
   "id": "85d185c0-9eaf-4ad1-b32a-cf9e77db311d",
   "metadata": {},
   "outputs": [
    {
     "data": {
      "text/plain": [
       "0.9102564102564102"
      ]
     },
     "execution_count": 14,
     "metadata": {},
     "output_type": "execute_result"
    }
   ],
   "source": [
    "from sklearn.metrics import roc_auc_score\n",
    "\n",
    "roc_auc_score(y_test,y_probab_p) # Are of the curve "
   ]
  },
  {
   "cell_type": "code",
   "execution_count": 15,
   "id": "1fc58126-d993-4c6b-a4d3-8784cbc361c6",
   "metadata": {},
   "outputs": [
    {
     "data": {
      "image/png": "[encoded data removed]",
      "text/plain": [
       "<Figure size 640x480 with 1 Axes>"
      ]
     },
     "metadata": {},
     "output_type": "display_data"
    }
   ],
   "source": [
    "fpr ,tpr, threshold = roc_curve(y_test,y_test)\n",
    "plot_roc(fpr,tpr)"
   ]
  },
  {
   "cell_type": "markdown",
   "id": "7d0c279d-d37f-489a-b1b7-0fce3dc9887c",
   "metadata": {},
   "source": [
    "# Confusion Matrix"
   ]
  },
  {
   "cell_type": "code",
   "execution_count": 16,
   "id": "13589e9c-7196-4e60-973f-9dc1dc290e9e",
   "metadata": {},
   "outputs": [],
   "source": [
    "# confusion matix tells you where your model is confused or has lost his mind\n",
    "## Case 1  Yes : True Positive : Truth = 1 and  Model = 1    he got it right\n",
    "## Case 2 Opps : False Positive : Truth = 0 and  Model = 1   he lost his mind\n",
    "## Case 3 Yes : True Negitive  : Truth = 0 and  Model = 0    he got it right\n",
    "## Case 4 Opps: False  Negitive : Truth = 1 and  Model = 0   he lost his mind"
   ]
  },
  {
   "cell_type": "code",
   "execution_count": 17,
   "id": "e2424bd4-b044-4379-8763-aed8c4f8b5ce",
   "metadata": {},
   "outputs": [
    {
     "data": {
      "text/plain": [
       "array([[17,  5],\n",
       "       [ 6, 33]], dtype=int64)"
      ]
     },
     "execution_count": 17,
     "metadata": {},
     "output_type": "execute_result"
    }
   ],
   "source": [
    "from sklearn.metrics import confusion_matrix\n",
    "\n",
    "y_predicted = clf.predict(x_test)\n",
    "confusion_matrix(y_test,y_predicted)"
   ]
  },
  {
   "cell_type": "code",
   "execution_count": 18,
   "id": "a1334a52-9d61-4fb8-a0b7-9347e8f53222",
   "metadata": {},
   "outputs": [],
   "source": [
    "# case 3 , 1 have 21 and 25 values respectively\n",
    "# case 4, 2  have  6 and 9 values respectively"
   ]
  },
  {
   "cell_type": "code",
   "execution_count": 19,
   "id": "e150a9ed-7ae1-462c-a4ca-602658f57fe9",
   "metadata": {},
   "outputs": [
    {
     "data": {
      "text/html": [
       "<div>\n",
       "<style scoped>\n",
       "    .dataframe tbody tr th:only-of-type {\n",
       "        vertical-align: middle;\n",
       "    }\n",
       "\n",
       "    .dataframe tbody tr th {\n",
       "        vertical-align: top;\n",
       "    }\n",
       "\n",
       "    .dataframe thead th {\n",
       "        text-align: right;\n",
       "    }\n",
       "</style>\n",
       "<table border=\"1\" class=\"dataframe\">\n",
       "  <thead>\n",
       "    <tr style=\"text-align: right;\">\n",
       "      <th>Predicted</th>\n",
       "      <th>0</th>\n",
       "      <th>1</th>\n",
       "    </tr>\n",
       "    <tr>\n",
       "      <th>Truth</th>\n",
       "      <th></th>\n",
       "      <th></th>\n",
       "    </tr>\n",
       "  </thead>\n",
       "  <tbody>\n",
       "    <tr>\n",
       "      <th>0</th>\n",
       "      <td>17</td>\n",
       "      <td>5</td>\n",
       "    </tr>\n",
       "    <tr>\n",
       "      <th>1</th>\n",
       "      <td>6</td>\n",
       "      <td>33</td>\n",
       "    </tr>\n",
       "  </tbody>\n",
       "</table>\n",
       "</div>"
      ],
      "text/plain": [
       "Predicted   0   1\n",
       "Truth            \n",
       "0          17   5\n",
       "1           6  33"
      ]
     },
     "execution_count": 19,
     "metadata": {},
     "output_type": "execute_result"
    }
   ],
   "source": [
    "# better visualization\n",
    "pd.crosstab(y_test, y_predicted,\n",
    "           rownames = ['Truth'],\n",
    "           colnames=['Predicted'])"
   ]
  },
  {
   "cell_type": "code",
   "execution_count": 20,
   "id": "23ac8723-c7f0-4d6c-ac07-b1b9961852ac",
   "metadata": {},
   "outputs": [
    {
     "data": {
      "image/png": "[encoded data removed]",
      "text/plain": [
       "<Figure size 300x300 with 1 Axes>"
      ]
     },
     "metadata": {},
     "output_type": "display_data"
    }
   ],
   "source": [
    "conf_mat = confusion_matrix(y_test, y_predicted)\n",
    "\n",
    "def plot_confmatrix (conf_mat):\n",
    "    \"\"\"\n",
    "    This Fuctions Plots Confusion Matrix\n",
    "    \"\"\"\n",
    "\n",
    "    fig , ax = plt.subplots(figsize = (3,3))\n",
    "    ax = sns.heatmap(conf_mat, annot= True , cbar = False)\n",
    "    plt.xlabel(\"Truth\")\n",
    "    plt.ylabel(\"Predicted\")\n",
    "    plt.show()\n",
    "\n",
    "plot_confmatrix(conf_mat)"
   ]
  },
  {
   "cell_type": "markdown",
   "id": "39c1449b-f0f0-4451-8b43-768b8af457ab",
   "metadata": {},
   "source": [
    "# Classification Report"
   ]
  },
  {
   "cell_type": "raw",
   "id": "a595be29-3457-4463-8abe-2d0fab2ee014",
   "metadata": {},
   "source": [
    "# class imbalance\n",
    "\n",
    "# Recall\n",
    "terorist correctely identified / terrorisst correctly identified+terrorist incorrectly lablel as not terrorist\n",
    "(tp/tp+fn)\n",
    "\n",
    "# Precision\n",
    "terorist correctely identified / terrorisst correctly identified+innocent labeled as terrorist\n",
    "\n",
    "# F1 score\n",
    "combination fo precision  and recall"
   ]
  },
  {
   "cell_type": "code",
   "execution_count": 21,
   "id": "041ec313-0120-4ee4-a9e5-7efa6625ebc6",
   "metadata": {},
   "outputs": [
    {
     "name": "stdout",
     "output_type": "stream",
     "text": [
      "              precision    recall  f1-score   support\n",
      "\n",
      "           0       0.74      0.77      0.76        22\n",
      "           1       0.87      0.85      0.86        39\n",
      "\n",
      "    accuracy                           0.82        61\n",
      "   macro avg       0.80      0.81      0.81        61\n",
      "weighted avg       0.82      0.82      0.82        61\n",
      "\n"
     ]
    }
   ],
   "source": [
    "from sklearn.metrics import classification_report \n",
    "print(classification_report(y_test,y_predicted))"
   ]
  },
  {
   "cell_type": "markdown",
   "id": "0ba97f81-9340-45a3-8397-18b20a695585",
   "metadata": {},
   "source": [
    "# Regression model Evaluation mtrics\n",
    "# 1. R^2\n",
    "## Compares Your Model Prediction to the mean for you target\n",
    "# 2. Mean Absolute Error (MSE)\n",
    "# 3. Mean Squared Error (MSE)"
   ]
  },
  {
   "cell_type": "code",
   "execution_count": 52,
   "id": "d5b0bf36-cf48-4d4c-99f7-4b3842338c8a",
   "metadata": {},
   "outputs": [
    {
     "data": {
      "text/plain": [
       "0.8094594487385776"
      ]
     },
     "execution_count": 52,
     "metadata": {},
     "output_type": "execute_result"
    }
   ],
   "source": [
    "# R^2\n",
    "from sklearn.ensemble import RandomForestRegressor\n",
    "from sklearn.model_selection import train_test_split\n",
    "from sklearn.datasets import fetch_california_housing\n",
    "\n",
    "housing= fetch_california_housing()\n",
    "df = pd.DataFrame(housing.data, columns=housing.feature_names)\n",
    "df['target'] = housing['target']\n",
    "\n",
    "np.random.seed()\n",
    "\n",
    "x = df.drop('target',axis=1)\n",
    "y = df['target']\n",
    "\n",
    "#split test train\n",
    "X_train,X_test,y_train,y_test = train_test_split(x,y , test_size=0.2)\n",
    "rfr = RandomForestRegressor()\n",
    "housin_model = rfr.fit(X_train,y_train)\n",
    "\n",
    "housin_model.score(X_test,y_test)"
   ]
  },
  {
   "cell_type": "code",
   "execution_count": 45,
   "id": "f979f05e-ab48-49d6-adad-746694a59e87",
   "metadata": {},
   "outputs": [],
   "source": [
    "# MAE: Is the average of the absolute (plus) difference betweeen predicted and actual values\n",
    "from sklearn.metrics import mean_absolute_error\n",
    "y_predicted = housin_model.predict(X_test)\n",
    "mae = mean_absolute_error(y_test,y_predicted)"
   ]
  },
  {
   "cell_type": "code",
   "execution_count": 46,
   "id": "20a342d1-18a6-4708-9d24-49af5f15dadc",
   "metadata": {},
   "outputs": [
    {
     "data": {
      "text/plain": [
       "0.33914577921511646"
      ]
     },
     "execution_count": 46,
     "metadata": {},
     "output_type": "execute_result"
    }
   ],
   "source": [
    "mae"
   ]
  },
  {
   "cell_type": "code",
   "execution_count": 47,
   "id": "5d8ffee7-05e5-4013-bbcc-96318326f208",
   "metadata": {},
   "outputs": [
    {
     "data": {
      "text/plain": [
       "Index(['MedInc', 'HouseAge', 'AveRooms', 'AveBedrms', 'Population', 'AveOccup',\n",
       "       'Latitude', 'Longitude', 'target'],\n",
       "      dtype='object')"
      ]
     },
     "execution_count": 47,
     "metadata": {},
     "output_type": "execute_result"
    }
   ],
   "source": [
    "df.columns"
   ]
  },
  {
   "cell_type": "code",
   "execution_count": 48,
   "id": "5b58450e-fecb-4aaf-bc97-07463af3fe5e",
   "metadata": {},
   "outputs": [
    {
     "data": {
      "text/html": [
       "<div>\n",
       "<style scoped>\n",
       "    .dataframe tbody tr th:only-of-type {\n",
       "        vertical-align: middle;\n",
       "    }\n",
       "\n",
       "    .dataframe tbody tr th {\n",
       "        vertical-align: top;\n",
       "    }\n",
       "\n",
       "    .dataframe thead th {\n",
       "        text-align: right;\n",
       "    }\n",
       "</style>\n",
       "<table border=\"1\" class=\"dataframe\">\n",
       "  <thead>\n",
       "    <tr style=\"text-align: right;\">\n",
       "      <th></th>\n",
       "      <th>actualvalues</th>\n",
       "      <th>predicted_values</th>\n",
       "      <th>diffrence</th>\n",
       "    </tr>\n",
       "  </thead>\n",
       "  <tbody>\n",
       "    <tr>\n",
       "      <th>20528</th>\n",
       "      <td>2.232</td>\n",
       "      <td>1.745970</td>\n",
       "      <td>0.486030</td>\n",
       "    </tr>\n",
       "    <tr>\n",
       "      <th>7236</th>\n",
       "      <td>1.565</td>\n",
       "      <td>1.613760</td>\n",
       "      <td>-0.048760</td>\n",
       "    </tr>\n",
       "    <tr>\n",
       "      <th>13110</th>\n",
       "      <td>1.544</td>\n",
       "      <td>1.901620</td>\n",
       "      <td>-0.357620</td>\n",
       "    </tr>\n",
       "    <tr>\n",
       "      <th>3472</th>\n",
       "      <td>4.318</td>\n",
       "      <td>4.973870</td>\n",
       "      <td>-0.655870</td>\n",
       "    </tr>\n",
       "    <tr>\n",
       "      <th>11166</th>\n",
       "      <td>2.521</td>\n",
       "      <td>1.955560</td>\n",
       "      <td>0.565440</td>\n",
       "    </tr>\n",
       "    <tr>\n",
       "      <th>...</th>\n",
       "      <td>...</td>\n",
       "      <td>...</td>\n",
       "      <td>...</td>\n",
       "    </tr>\n",
       "    <tr>\n",
       "      <th>3848</th>\n",
       "      <td>2.464</td>\n",
       "      <td>2.776270</td>\n",
       "      <td>-0.312270</td>\n",
       "    </tr>\n",
       "    <tr>\n",
       "      <th>5778</th>\n",
       "      <td>1.786</td>\n",
       "      <td>2.126250</td>\n",
       "      <td>-0.340250</td>\n",
       "    </tr>\n",
       "    <tr>\n",
       "      <th>8938</th>\n",
       "      <td>4.629</td>\n",
       "      <td>4.127192</td>\n",
       "      <td>0.501808</td>\n",
       "    </tr>\n",
       "    <tr>\n",
       "      <th>12749</th>\n",
       "      <td>1.661</td>\n",
       "      <td>1.098930</td>\n",
       "      <td>0.562070</td>\n",
       "    </tr>\n",
       "    <tr>\n",
       "      <th>20184</th>\n",
       "      <td>2.327</td>\n",
       "      <td>2.293680</td>\n",
       "      <td>0.033320</td>\n",
       "    </tr>\n",
       "  </tbody>\n",
       "</table>\n",
       "<p>4128 rows × 3 columns</p>\n",
       "</div>"
      ],
      "text/plain": [
       "       actualvalues  predicted_values  diffrence\n",
       "20528         2.232          1.745970   0.486030\n",
       "7236          1.565          1.613760  -0.048760\n",
       "13110         1.544          1.901620  -0.357620\n",
       "3472          4.318          4.973870  -0.655870\n",
       "11166         2.521          1.955560   0.565440\n",
       "...             ...               ...        ...\n",
       "3848          2.464          2.776270  -0.312270\n",
       "5778          1.786          2.126250  -0.340250\n",
       "8938          4.629          4.127192   0.501808\n",
       "12749         1.661          1.098930   0.562070\n",
       "20184         2.327          2.293680   0.033320\n",
       "\n",
       "[4128 rows x 3 columns]"
      ]
     },
     "execution_count": 48,
     "metadata": {},
     "output_type": "execute_result"
    }
   ],
   "source": [
    "df = pd.DataFrame(data = {\"actualvalues\" : y_test , \"predicted_values\" : y_predicted})\n",
    "df['diffrence'] = df['actualvalues']-df['predicted_values']\n",
    "df  # tell how wrong our model is \n",
    " # minimize this value"
   ]
  },
  {
   "cell_type": "markdown",
   "id": "a13700c9-69d5-4de8-97e6-df4a12a532bf",
   "metadata": {},
   "source": [
    "# Mean Square Error for regression problem"
   ]
  },
  {
   "cell_type": "code",
   "execution_count": 49,
   "id": "144b02e2-dfb5-49bd-990c-beeb3f05e30f",
   "metadata": {},
   "outputs": [
    {
     "data": {
      "text/plain": [
       "0.26958555261896755"
      ]
     },
     "execution_count": 49,
     "metadata": {},
     "output_type": "execute_result"
    }
   ],
   "source": [
    "from sklearn.metrics import mean_squared_error\n",
    "y_predicted= housin_model.predict(X_test)\n",
    "mse = mean_squared_error(y_test,y_predicted)\n",
    "mse"
   ]
  },
  {
   "cell_type": "code",
   "execution_count": 50,
   "id": "582df512-9611-450b-82e2-243e4a586fc4",
   "metadata": {},
   "outputs": [
    {
     "data": {
      "text/plain": [
       "0.26958555261896755"
      ]
     },
     "execution_count": 50,
     "metadata": {},
     "output_type": "execute_result"
    }
   ],
   "source": [
    "mse_manual = np.square(df['diffrence'])\n",
    "mse_manual.mean()"
   ]
  },
  {
   "cell_type": "markdown",
   "id": "62370675-189b-44ee-baff-f46cd467a54d",
   "metadata": {},
   "source": [
    "# Scorring parameters for classification"
   ]
  },
  {
   "cell_type": "code",
   "execution_count": 39,
   "id": "1e5918d4-4896-4737-b433-a4c5168a1512",
   "metadata": {},
   "outputs": [
    {
     "data": {
      "text/plain": [
       "0.7911475409836066"
      ]
     },
     "execution_count": 39,
     "metadata": {},
     "output_type": "execute_result"
    }
   ],
   "source": [
    "from sklearn.model_selection import cross_val_score\n",
    "from sklearn.model_selection import train_test_split\n",
    "from sklearn.ensemble import RandomForestClassifier\n",
    "\n",
    "\n",
    "x = df.drop('target',axis=1)\n",
    "y= df['target']\n",
    "\n",
    "clf = RandomForestClassifier()\n",
    "cross_acc = cross_val_score(clf,x,y,cv=5 , scoring=None)\n",
    "cross_acc.mean()"
   ]
  },
  {
   "cell_type": "code",
   "execution_count": 40,
   "id": "76a966a4-d1fa-4519-9974-a8ea5a639b71",
   "metadata": {},
   "outputs": [
    {
     "data": {
      "text/plain": [
       "0.7614207650273224"
      ]
     },
     "execution_count": 40,
     "metadata": {},
     "output_type": "execute_result"
    }
   ],
   "source": [
    "# accuracy\n",
    "cross_acc = cross_val_score(clf,x,y,cv=5 , scoring='accuracy')\n",
    "cross_acc.mean()"
   ]
  },
  {
   "cell_type": "code",
   "execution_count": 41,
   "id": "42c9c837-deb7-49a7-893a-65f51f5e0b48",
   "metadata": {},
   "outputs": [
    {
     "data": {
      "text/plain": [
       "0.7773356549827138"
      ]
     },
     "execution_count": 41,
     "metadata": {},
     "output_type": "execute_result"
    }
   ],
   "source": [
    "# precision \n",
    "cross_acc = cross_val_score(clf,x,y,cv=5 , scoring='precision') \n",
    "cross_acc.mean()"
   ]
  },
  {
   "cell_type": "code",
   "execution_count": 42,
   "id": "c1f44112-769f-4dcd-95a4-a4e59514fe93",
   "metadata": {},
   "outputs": [
    {
     "data": {
      "text/plain": [
       "0.8113636363636363"
      ]
     },
     "execution_count": 42,
     "metadata": {},
     "output_type": "execute_result"
    }
   ],
   "source": [
    "# recall\n",
    "cross_acc = cross_val_score(clf,x,y,cv=5 , scoring='recall')\n",
    "cross_acc.mean()"
   ]
  },
  {
   "cell_type": "code",
   "execution_count": 43,
   "id": "da55dd8b-9181-4853-bae6-9af52f84c3b5",
   "metadata": {},
   "outputs": [
    {
     "data": {
      "text/plain": [
       "0.7990931895146118"
      ]
     },
     "execution_count": 43,
     "metadata": {},
     "output_type": "execute_result"
    }
   ],
   "source": [
    "# f1 \n",
    "cross_acc = cross_val_score(clf,x,y,cv=5 , scoring='f1')\n",
    "cross_acc.mean()"
   ]
  },
  {
   "cell_type": "markdown",
   "id": "f2084931-18ad-46da-b0a1-4003a48087f8",
   "metadata": {},
   "source": [
    "# Scoring parameters for Regression"
   ]
  },
  {
   "cell_type": "code",
   "execution_count": 2,
   "id": "a00dcbe7-9cae-4514-a7a6-983f110d3357",
   "metadata": {},
   "outputs": [
    {
     "data": {
      "text/plain": [
       "0.6491103905534895"
      ]
     },
     "execution_count": 2,
     "metadata": {},
     "output_type": "execute_result"
    }
   ],
   "source": [
    "from sklearn.model_selection import cross_val_score\n",
    "from sklearn.model_selection import train_test_split\n",
    "from sklearn.ensemble import RandomForestRegressor\n",
    "from sklearn.datasets import fetch_california_housing\n",
    "\n",
    "housing= fetch_california_housing()\n",
    "df = pd.DataFrame(housing.data, columns=housing.feature_names)\n",
    "df['target'] = housing['target']\n",
    "\n",
    "x = df.drop('target',axis=1)\n",
    "y = df['target']\n",
    "\n",
    "\n",
    "rfr = RandomForestRegressor()\n",
    "cross_acc = cross_val_score(rfr,x,y,cv=5 , scoring=None)\n",
    "cross_acc.mean()"
   ]
  },
  {
   "cell_type": "code",
   "execution_count": 3,
   "id": "e10a7385-11bb-408b-90ad-af1eaf470d8a",
   "metadata": {},
   "outputs": [
    {
     "data": {
      "text/plain": [
       "0.6478140041304676"
      ]
     },
     "execution_count": 3,
     "metadata": {},
     "output_type": "execute_result"
    }
   ],
   "source": [
    "np.random.seed()\n",
    "cross_acc = cross_val_score(rfr,x,y,cv=5 , scoring='r2')\n",
    "cross_acc.mean()"
   ]
  },
  {
   "cell_type": "code",
   "execution_count": 4,
   "id": "48f62970-5d0e-47a2-9dc7-d187d82978e0",
   "metadata": {},
   "outputs": [
    {
     "data": {
      "text/plain": [
       "-0.46712016632751946"
      ]
     },
     "execution_count": 4,
     "metadata": {},
     "output_type": "execute_result"
    }
   ],
   "source": [
    "np.random.seed()\n",
    "cross_acc = cross_val_score(rfr,x,y,cv=5 , scoring='neg_mean_absolute_error')\n",
    "cross_acc.mean()"
   ]
  },
  {
   "cell_type": "code",
   "execution_count": null,
   "id": "a78cc5aa-834d-4200-b3ed-1d21d029c29e",
   "metadata": {},
   "outputs": [],
   "source": [
    "np.random.seed()\n",
    "cross_acc = cross_val_score(rfr,x,y,cv=5 , scoring='neg_mean_squared_error')\n",
    "cross_acc.mean()"
   ]
  },
  {
   "cell_type": "markdown",
   "id": "98616150-c2ce-4ab1-a065-ddd713e21b6c",
   "metadata": {},
   "source": [
    "# Using Different Evaluation Matrics as sklearn Functions Clssification problems"
   ]
  },
  {
   "cell_type": "code",
   "execution_count": 2,
   "id": "00688fdb-1490-484c-8daa-a06c2a49a293",
   "metadata": {},
   "outputs": [],
   "source": [
    "from sklearn.metrics import accuracy_score,precision_score,recall_score,f1_score\n",
    "from sklearn.ensemble import RandomForestClassifier\n",
    "from sklearn.model_selection import train_test_split\n",
    "np.random.seed(7)"
   ]
  },
  {
   "cell_type": "code",
   "execution_count": 3,
   "id": "86ab464b-4e55-4b8f-b788-9cae8d41a9be",
   "metadata": {},
   "outputs": [],
   "source": [
    "df_heart = pd.read_csv(\"cleanHeartData.csv\")"
   ]
  },
  {
   "cell_type": "code",
   "execution_count": 5,
   "id": "5b40fdeb-2bb4-4028-904e-7b7b2afe7751",
   "metadata": {},
   "outputs": [],
   "source": [
    "df_heart.drop(\"Unnamed: 0\",axis=1 ,inplace=True)"
   ]
  },
  {
   "cell_type": "code",
   "execution_count": 7,
   "id": "94cbfd1f-dff3-4ca9-9c1e-1dd6bdedeb3b",
   "metadata": {},
   "outputs": [
    {
     "data": {
      "text/html": [
       "<div>\n",
       "<style scoped>\n",
       "    .dataframe tbody tr th:only-of-type {\n",
       "        vertical-align: middle;\n",
       "    }\n",
       "\n",
       "    .dataframe tbody tr th {\n",
       "        vertical-align: top;\n",
       "    }\n",
       "\n",
       "    .dataframe thead th {\n",
       "        text-align: right;\n",
       "    }\n",
       "</style>\n",
       "<table border=\"1\" class=\"dataframe\">\n",
       "  <thead>\n",
       "    <tr style=\"text-align: right;\">\n",
       "      <th></th>\n",
       "      <th>age</th>\n",
       "      <th>sex</th>\n",
       "      <th>resting_blood_pressure</th>\n",
       "      <th>cholestoral</th>\n",
       "      <th>fasting_blood_sugar</th>\n",
       "      <th>Max_heart_rate</th>\n",
       "      <th>exercise_induced_angina</th>\n",
       "      <th>oldpeak</th>\n",
       "      <th>target</th>\n",
       "    </tr>\n",
       "  </thead>\n",
       "  <tbody>\n",
       "    <tr>\n",
       "      <th>0</th>\n",
       "      <td>52</td>\n",
       "      <td>1</td>\n",
       "      <td>125</td>\n",
       "      <td>212</td>\n",
       "      <td>0</td>\n",
       "      <td>168</td>\n",
       "      <td>0</td>\n",
       "      <td>1.0</td>\n",
       "      <td>0</td>\n",
       "    </tr>\n",
       "    <tr>\n",
       "      <th>1</th>\n",
       "      <td>53</td>\n",
       "      <td>1</td>\n",
       "      <td>140</td>\n",
       "      <td>203</td>\n",
       "      <td>1</td>\n",
       "      <td>155</td>\n",
       "      <td>1</td>\n",
       "      <td>3.1</td>\n",
       "      <td>0</td>\n",
       "    </tr>\n",
       "    <tr>\n",
       "      <th>2</th>\n",
       "      <td>70</td>\n",
       "      <td>1</td>\n",
       "      <td>145</td>\n",
       "      <td>174</td>\n",
       "      <td>0</td>\n",
       "      <td>125</td>\n",
       "      <td>1</td>\n",
       "      <td>2.6</td>\n",
       "      <td>0</td>\n",
       "    </tr>\n",
       "    <tr>\n",
       "      <th>3</th>\n",
       "      <td>61</td>\n",
       "      <td>1</td>\n",
       "      <td>148</td>\n",
       "      <td>203</td>\n",
       "      <td>0</td>\n",
       "      <td>161</td>\n",
       "      <td>0</td>\n",
       "      <td>0.0</td>\n",
       "      <td>0</td>\n",
       "    </tr>\n",
       "    <tr>\n",
       "      <th>4</th>\n",
       "      <td>62</td>\n",
       "      <td>0</td>\n",
       "      <td>138</td>\n",
       "      <td>294</td>\n",
       "      <td>1</td>\n",
       "      <td>106</td>\n",
       "      <td>0</td>\n",
       "      <td>1.9</td>\n",
       "      <td>0</td>\n",
       "    </tr>\n",
       "  </tbody>\n",
       "</table>\n",
       "</div>"
      ],
      "text/plain": [
       "   age  sex  resting_blood_pressure  cholestoral  fasting_blood_sugar  \\\n",
       "0   52    1                     125          212                    0   \n",
       "1   53    1                     140          203                    1   \n",
       "2   70    1                     145          174                    0   \n",
       "3   61    1                     148          203                    0   \n",
       "4   62    0                     138          294                    1   \n",
       "\n",
       "   Max_heart_rate  exercise_induced_angina  oldpeak  target  \n",
       "0             168                        0      1.0       0  \n",
       "1             155                        1      3.1       0  \n",
       "2             125                        1      2.6       0  \n",
       "3             161                        0      0.0       0  \n",
       "4             106                        0      1.9       0  "
      ]
     },
     "execution_count": 7,
     "metadata": {},
     "output_type": "execute_result"
    }
   ],
   "source": [
    "df_heart.head()"
   ]
  },
  {
   "cell_type": "code",
   "execution_count": 10,
   "id": "6acded12-409b-4c70-a21b-154f851f9b7a",
   "metadata": {},
   "outputs": [
    {
     "name": "stdout",
     "output_type": "stream",
     "text": [
      "Accuracy Score : 0.7540983606557377\n",
      "Precision score : 0.7741935483870968\n",
      "Recall Score : 0.75\n",
      "f1 Score : 0.7619047619047619\n"
     ]
    }
   ],
   "source": [
    "#splittig data \n",
    "x = df_heart.drop(\"target\",axis=1)\n",
    "y = df_heart['target']\n",
    "\n",
    "# making test and train\n",
    "x_train , x_test, y_train, y_test = train_test_split(x,y , test_size=0.2)\n",
    "\n",
    "#instanciate the model \n",
    "clf = RandomForestClassifier()\n",
    "\n",
    "#fit the model \n",
    "model = clf.fit(x_train,y_train)\n",
    "\n",
    "#lets make prediction\n",
    "y_predicted = clf.predict(x_test)\n",
    "\n",
    "# evaluating the model using sklearn functions\n",
    "print(f'Accuracy Score : {accuracy_score(y_test,y_predicted)}')\n",
    "print(f'Precision score : {precision_score(y_test,y_predicted)}')\n",
    "print(f'Recall Score : {recall_score(y_test,y_predicted)}')\n",
    "print(f'f1 Score : {f1_score(y_test,y_predicted)}')"
   ]
  },
  {
   "cell_type": "markdown",
   "id": "bb32a050-bf83-47f1-bec1-357a5e1451c6",
   "metadata": {},
   "source": [
    "## Regression Evaluation Functions"
   ]
  },
  {
   "cell_type": "code",
   "execution_count": 14,
   "id": "630491e6-f165-4382-a096-f929f571c6a0",
   "metadata": {},
   "outputs": [
    {
     "data": {
      "text/html": [
       "<div>\n",
       "<style scoped>\n",
       "    .dataframe tbody tr th:only-of-type {\n",
       "        vertical-align: middle;\n",
       "    }\n",
       "\n",
       "    .dataframe tbody tr th {\n",
       "        vertical-align: top;\n",
       "    }\n",
       "\n",
       "    .dataframe thead th {\n",
       "        text-align: right;\n",
       "    }\n",
       "</style>\n",
       "<table border=\"1\" class=\"dataframe\">\n",
       "  <thead>\n",
       "    <tr style=\"text-align: right;\">\n",
       "      <th></th>\n",
       "      <th>MedInc</th>\n",
       "      <th>HouseAge</th>\n",
       "      <th>AveRooms</th>\n",
       "      <th>AveBedrms</th>\n",
       "      <th>Population</th>\n",
       "      <th>AveOccup</th>\n",
       "      <th>Latitude</th>\n",
       "      <th>Longitude</th>\n",
       "      <th>target</th>\n",
       "    </tr>\n",
       "  </thead>\n",
       "  <tbody>\n",
       "    <tr>\n",
       "      <th>0</th>\n",
       "      <td>8.3252</td>\n",
       "      <td>41.0</td>\n",
       "      <td>6.984127</td>\n",
       "      <td>1.023810</td>\n",
       "      <td>322.0</td>\n",
       "      <td>2.555556</td>\n",
       "      <td>37.88</td>\n",
       "      <td>-122.23</td>\n",
       "      <td>4.526</td>\n",
       "    </tr>\n",
       "    <tr>\n",
       "      <th>1</th>\n",
       "      <td>8.3014</td>\n",
       "      <td>21.0</td>\n",
       "      <td>6.238137</td>\n",
       "      <td>0.971880</td>\n",
       "      <td>2401.0</td>\n",
       "      <td>2.109842</td>\n",
       "      <td>37.86</td>\n",
       "      <td>-122.22</td>\n",
       "      <td>3.585</td>\n",
       "    </tr>\n",
       "    <tr>\n",
       "      <th>2</th>\n",
       "      <td>7.2574</td>\n",
       "      <td>52.0</td>\n",
       "      <td>8.288136</td>\n",
       "      <td>1.073446</td>\n",
       "      <td>496.0</td>\n",
       "      <td>2.802260</td>\n",
       "      <td>37.85</td>\n",
       "      <td>-122.24</td>\n",
       "      <td>3.521</td>\n",
       "    </tr>\n",
       "    <tr>\n",
       "      <th>3</th>\n",
       "      <td>5.6431</td>\n",
       "      <td>52.0</td>\n",
       "      <td>5.817352</td>\n",
       "      <td>1.073059</td>\n",
       "      <td>558.0</td>\n",
       "      <td>2.547945</td>\n",
       "      <td>37.85</td>\n",
       "      <td>-122.25</td>\n",
       "      <td>3.413</td>\n",
       "    </tr>\n",
       "    <tr>\n",
       "      <th>4</th>\n",
       "      <td>3.8462</td>\n",
       "      <td>52.0</td>\n",
       "      <td>6.281853</td>\n",
       "      <td>1.081081</td>\n",
       "      <td>565.0</td>\n",
       "      <td>2.181467</td>\n",
       "      <td>37.85</td>\n",
       "      <td>-122.25</td>\n",
       "      <td>3.422</td>\n",
       "    </tr>\n",
       "  </tbody>\n",
       "</table>\n",
       "</div>"
      ],
      "text/plain": [
       "   MedInc  HouseAge  AveRooms  AveBedrms  Population  AveOccup  Latitude  \\\n",
       "0  8.3252      41.0  6.984127   1.023810       322.0  2.555556     37.88   \n",
       "1  8.3014      21.0  6.238137   0.971880      2401.0  2.109842     37.86   \n",
       "2  7.2574      52.0  8.288136   1.073446       496.0  2.802260     37.85   \n",
       "3  5.6431      52.0  5.817352   1.073059       558.0  2.547945     37.85   \n",
       "4  3.8462      52.0  6.281853   1.081081       565.0  2.181467     37.85   \n",
       "\n",
       "   Longitude  target  \n",
       "0    -122.23   4.526  \n",
       "1    -122.22   3.585  \n",
       "2    -122.24   3.521  \n",
       "3    -122.25   3.413  \n",
       "4    -122.25   3.422  "
      ]
     },
     "execution_count": 14,
     "metadata": {},
     "output_type": "execute_result"
    }
   ],
   "source": [
    "from sklearn.metrics import r2_score,mean_absolute_error ,mean_squared_error\n",
    "from sklearn.ensemble import RandomForestRegressor\n",
    "from sklearn.model_selection import train_test_split\n",
    "from sklearn.datasets import fetch_california_housing\n",
    "\n",
    "np.random.seed()\n",
    "\n",
    "# creating data frame of  california housing \n",
    "housing= fetch_california_housing()\n",
    "df = pd.DataFrame(housing['data'], columns=housing['feature_names'])\n",
    "df['target'] = housing['target']\n",
    "df.head()"
   ]
  },
  {
   "cell_type": "code",
   "execution_count": 16,
   "id": "d5b97939-05a9-4687-a17c-368f89d5fbaf",
   "metadata": {},
   "outputs": [
    {
     "name": "stdout",
     "output_type": "stream",
     "text": [
      "r2 score : 0.804120621161988\n",
      "Mean Absolute Error : 0.3371946576065894\n",
      "Mean Square Error : 0.26774183817640673\n"
     ]
    }
   ],
   "source": [
    "# splitting data into target and features\n",
    "x = df.drop('target',axis=1)\n",
    "y = df['target']\n",
    "\n",
    "# split it into train and test \n",
    "x_train,x_test,y_train,y_test = train_test_split(x,y,test_size=0.2)\n",
    "\n",
    "# create model instence\n",
    "rfr = RandomForestRegressor()\n",
    "\n",
    "# fit model \n",
    "model = rfr.fit(x_train,y_train)\n",
    "\n",
    "# make prediction \n",
    "y_predicted = model.predict(x_test)\n",
    "\n",
    "# we run regression evaluation functions\n",
    "print(f'r2 score : {r2_score(y_test,y_predicted)}')\n",
    "print(f'Mean Absolute Error : {mean_absolute_error(y_test,y_predicted)}')\n",
    "print(f'Mean Square Error : {mean_squared_error(y_test,y_predicted)}')"
   ]
  },
  {
   "cell_type": "code",
   "execution_count": null,
   "id": "76bcadc4-5ca4-4c95-b7bd-05f01852c20a",
   "metadata": {},
   "outputs": [],
   "source": []
  }
 ],
 "metadata": {
  "kernelspec": {
   "display_name": "Python 3 (ipykernel)",
   "language": "python",
   "name": "python3"
  },
  "language_info": {
   "codemirror_mode": {
    "name": "ipython",
    "version": 3
   },
   "file_extension": ".py",
   "mimetype": "text/x-python",
   "name": "python",
   "nbconvert_exporter": "python",
   "pygments_lexer": "ipython3",
   "version": "3.12.7"
  }
 },
 "nbformat": 4,
 "nbformat_minor": 5
}
