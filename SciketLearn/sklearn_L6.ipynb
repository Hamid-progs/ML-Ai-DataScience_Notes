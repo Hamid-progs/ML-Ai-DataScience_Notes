{
 "cells": [
  {
   "cell_type": "code",
   "execution_count": 8,
   "id": "96b20eb6-f308-49d6-b7bc-4f104522d971",
   "metadata": {},
   "outputs": [],
   "source": [
    "import pandas as pd \n",
    "import numpy as np \n",
    "import matplotlib.pyplot as plt \n",
    "\n",
    "pd.set_option(\"display.max_columns\",None)"
   ]
  },
  {
   "cell_type": "markdown",
   "id": "81a178c3-7a43-4861-9420-d9de591c221d",
   "metadata": {},
   "source": [
    "# Save load with pickle module"
   ]
  },
  {
   "cell_type": "code",
   "execution_count": 1,
   "id": "dbcadd78-92ae-427c-9479-35542224826a",
   "metadata": {},
   "outputs": [],
   "source": [
    "import pickle"
   ]
  },
  {
   "cell_type": "raw",
   "id": "cc5d20cf-ce1a-45f6-a736-35b09c05f350",
   "metadata": {},
   "source": [
    "# save existing model \n",
    "pickle.dump(gsv_clf,open(\"gsv_REM.pkl\",\"wb\"))"
   ]
  },
  {
   "cell_type": "raw",
   "id": "4a1a07a7-2af0-4aa1-8c52-8cc1b7ddeb6e",
   "metadata": {},
   "source": [
    "# load saved model\n",
    "pickled_model = pickle.load(open(\"gsv_REM.pkl\",\"rb\"))"
   ]
  },
  {
   "cell_type": "raw",
   "id": "687264b9-8793-4b6d-b932-0f30568ce4cd",
   "metadata": {},
   "source": [
    "# make prediction of loaded model \n",
    "predicted_pickle =pickled_model.predict(x_test)\n",
    "evaluate_hyper_metrices(y_test,predicted_pickle)   #this fucntion is                                                             #availavle in \n",
    "                                                   # sklearn l-5"
   ]
  },
  {
   "cell_type": "markdown",
   "id": "2ee53bad-5580-4f99-8e7e-ea16ce27898b",
   "metadata": {},
   "source": [
    "# saving using Joblib library"
   ]
  },
  {
   "cell_type": "code",
   "execution_count": 3,
   "id": "10adf630-8258-4920-83eb-9e4015a2f6d9",
   "metadata": {},
   "outputs": [],
   "source": [
    "from joblib import dump ,load"
   ]
  },
  {
   "cell_type": "raw",
   "id": "52c29430-81cc-4aed-820c-326a94249dc8",
   "metadata": {},
   "source": [
    "# save model \n",
    "dump(gsv_clf,filename=\"joblib_gsv_model.joblib\")"
   ]
  },
  {
   "cell_type": "raw",
   "id": "802f1bfe-26cf-4e7b-ae8a-68fc5e3b6c79",
   "metadata": {},
   "source": [
    "# load model\n",
    "joblib_model = load(filename= \"joblib_gsv_model.joblib\")"
   ]
  },
  {
   "cell_type": "raw",
   "id": "37241dc7-fd25-46d0-be29-d5716be0db7d",
   "metadata": {},
   "source": [
    "# make prediction \n",
    "y_joblib_predicted  = joblib_model.predict(x_test)\n",
    "evaluate_hyper_metrices(y_test,y_joblib_predicted)"
   ]
  },
  {
   "cell_type": "markdown",
   "id": "6fa46dea-f0eb-4683-86f7-29b932afd5b1",
   "metadata": {},
   "source": [
    "# Building Entire Model using Pipeline"
   ]
  },
  {
   "cell_type": "code",
   "execution_count": 9,
   "id": "7a2f3fea-5b9d-40ef-9360-3e0451ff62ea",
   "metadata": {},
   "outputs": [
    {
     "data": {
      "text/html": [
       "<div>\n",
       "<style scoped>\n",
       "    .dataframe tbody tr th:only-of-type {\n",
       "        vertical-align: middle;\n",
       "    }\n",
       "\n",
       "    .dataframe tbody tr th {\n",
       "        vertical-align: top;\n",
       "    }\n",
       "\n",
       "    .dataframe thead th {\n",
       "        text-align: right;\n",
       "    }\n",
       "</style>\n",
       "<table border=\"1\" class=\"dataframe\">\n",
       "  <thead>\n",
       "    <tr style=\"text-align: right;\">\n",
       "      <th></th>\n",
       "      <th>age</th>\n",
       "      <th>sex</th>\n",
       "      <th>resting_blood_pressure</th>\n",
       "      <th>cholestoral</th>\n",
       "      <th>fasting_blood_sugar</th>\n",
       "      <th>Max_heart_rate</th>\n",
       "      <th>exercise_induced_angina</th>\n",
       "      <th>oldpeak</th>\n",
       "      <th>target</th>\n",
       "    </tr>\n",
       "  </thead>\n",
       "  <tbody>\n",
       "    <tr>\n",
       "      <th>0</th>\n",
       "      <td>52</td>\n",
       "      <td>1</td>\n",
       "      <td>125</td>\n",
       "      <td>212</td>\n",
       "      <td>0</td>\n",
       "      <td>168</td>\n",
       "      <td>0</td>\n",
       "      <td>1.0</td>\n",
       "      <td>0</td>\n",
       "    </tr>\n",
       "    <tr>\n",
       "      <th>1</th>\n",
       "      <td>53</td>\n",
       "      <td>1</td>\n",
       "      <td>140</td>\n",
       "      <td>203</td>\n",
       "      <td>1</td>\n",
       "      <td>155</td>\n",
       "      <td>1</td>\n",
       "      <td>3.1</td>\n",
       "      <td>0</td>\n",
       "    </tr>\n",
       "    <tr>\n",
       "      <th>2</th>\n",
       "      <td>70</td>\n",
       "      <td>1</td>\n",
       "      <td>145</td>\n",
       "      <td>174</td>\n",
       "      <td>0</td>\n",
       "      <td>125</td>\n",
       "      <td>1</td>\n",
       "      <td>2.6</td>\n",
       "      <td>0</td>\n",
       "    </tr>\n",
       "    <tr>\n",
       "      <th>3</th>\n",
       "      <td>61</td>\n",
       "      <td>1</td>\n",
       "      <td>148</td>\n",
       "      <td>203</td>\n",
       "      <td>0</td>\n",
       "      <td>161</td>\n",
       "      <td>0</td>\n",
       "      <td>0.0</td>\n",
       "      <td>0</td>\n",
       "    </tr>\n",
       "    <tr>\n",
       "      <th>4</th>\n",
       "      <td>62</td>\n",
       "      <td>0</td>\n",
       "      <td>138</td>\n",
       "      <td>294</td>\n",
       "      <td>1</td>\n",
       "      <td>106</td>\n",
       "      <td>0</td>\n",
       "      <td>1.9</td>\n",
       "      <td>0</td>\n",
       "    </tr>\n",
       "  </tbody>\n",
       "</table>\n",
       "</div>"
      ],
      "text/plain": [
       "   age  sex  resting_blood_pressure  cholestoral  fasting_blood_sugar  \\\n",
       "0   52    1                     125          212                    0   \n",
       "1   53    1                     140          203                    1   \n",
       "2   70    1                     145          174                    0   \n",
       "3   61    1                     148          203                    0   \n",
       "4   62    0                     138          294                    1   \n",
       "\n",
       "   Max_heart_rate  exercise_induced_angina  oldpeak  target  \n",
       "0             168                        0      1.0       0  \n",
       "1             155                        1      3.1       0  \n",
       "2             125                        1      2.6       0  \n",
       "3             161                        0      0.0       0  \n",
       "4             106                        0      1.9       0  "
      ]
     },
     "execution_count": 9,
     "metadata": {},
     "output_type": "execute_result"
    }
   ],
   "source": [
    "df = pd.read_csv(\"CleanHeart.csv\")\n",
    "df.drop(\"Unnamed: 0\",axis=1 , inplace=True)\n",
    "df.head()"
   ]
  },
  {
   "cell_type": "code",
   "execution_count": 10,
   "id": "ffade0d8-9d24-4485-80f6-58764fee5b14",
   "metadata": {},
   "outputs": [
    {
     "data": {
      "text/plain": [
       "age                          int64\n",
       "sex                          int64\n",
       "resting_blood_pressure       int64\n",
       "cholestoral                  int64\n",
       "fasting_blood_sugar          int64\n",
       "Max_heart_rate               int64\n",
       "exercise_induced_angina      int64\n",
       "oldpeak                    float64\n",
       "target                       int64\n",
       "dtype: object"
      ]
     },
     "execution_count": 10,
     "metadata": {},
     "output_type": "execute_result"
    }
   ],
   "source": [
    "df.dtypes"
   ]
  },
  {
   "cell_type": "code",
   "execution_count": 11,
   "id": "3c74fc1b-60b9-41a0-a483-f756eac5e6e4",
   "metadata": {},
   "outputs": [
    {
     "data": {
      "text/plain": [
       "age                        0\n",
       "sex                        0\n",
       "resting_blood_pressure     0\n",
       "cholestoral                0\n",
       "fasting_blood_sugar        0\n",
       "Max_heart_rate             0\n",
       "exercise_induced_angina    0\n",
       "oldpeak                    0\n",
       "target                     0\n",
       "dtype: int64"
      ]
     },
     "execution_count": 11,
     "metadata": {},
     "output_type": "execute_result"
    }
   ],
   "source": [
    "df.isna().sum()"
   ]
  },
  {
   "cell_type": "code",
   "execution_count": 36,
   "id": "09e740db-58e8-447f-a9af-2348f149b906",
   "metadata": {},
   "outputs": [],
   "source": [
    "\n",
    "# getting libraries \n",
    "import pandas as pd \n",
    "import numpy as np\n",
    "from sklearn.compose import ColumnTransformer \n",
    "from sklearn.pipeline import Pipeline \n",
    "from sklearn.impute import SimpleImputer\n",
    "from sklearn.preprocessing import OneHotEncoder\n",
    "#modeling\n",
    "from sklearn.ensemble import RandomForestRegressor\n",
    "from sklearn.model_selection import train_test_split\n",
    "\n",
    "np.random.seed(7)\n",
    "\n",
    "# import daa and fill the missing values \n",
    "data = pd.read_csv(\"mising_data_md.csv\")\n",
    "\n",
    "data.dropna(subset=['Price'],inplace=True)"
   ]
  },
  {
   "cell_type": "code",
   "execution_count": 34,
   "id": "9ff58dbc-1cf0-4d6e-8b40-9bdac09425f2",
   "metadata": {},
   "outputs": [
    {
     "data": {
      "text/plain": [
       "Brand           object\n",
       "Model           object\n",
       "Price            int32\n",
       "Battery_mAh    float64\n",
       "Storage_GB     float64\n",
       "RAM_GB         float64\n",
       "Weight_g       float64\n",
       "Rating         float64\n",
       "dtype: object"
      ]
     },
     "execution_count": 34,
     "metadata": {},
     "output_type": "execute_result"
    }
   ],
   "source": [
    "data.dtypes"
   ]
  },
  {
   "cell_type": "code",
   "execution_count": 24,
   "id": "2b9e763f-d703-4bb8-b1c2-c96de05b9b44",
   "metadata": {},
   "outputs": [
    {
     "data": {
      "text/plain": [
       "Brand          0\n",
       "Model          0\n",
       "Price          0\n",
       "Battery_mAh    1\n",
       "Storage_GB     1\n",
       "RAM_GB         2\n",
       "Weight_g       2\n",
       "Rating         1\n",
       "dtype: int64"
      ]
     },
     "execution_count": 24,
     "metadata": {},
     "output_type": "execute_result"
    }
   ],
   "source": [
    "data.isna().sum()"
   ]
  },
  {
   "cell_type": "code",
   "execution_count": 39,
   "id": "50b5902e-7cd8-4f0f-b169-5806e0b27875",
   "metadata": {},
   "outputs": [],
   "source": [
    "data[\"Price\"] = data[\"Price\"].str.replace(r'\\$', '', regex=True).astype(int)"
   ]
  },
  {
   "cell_type": "code",
   "execution_count": 40,
   "id": "0923e51e-60e0-42d4-922c-4307c38271f1",
   "metadata": {},
   "outputs": [],
   "source": [
    "# define different features and transformer pipeline\n",
    "cat_features = [\"Brand\",\"Model\"]\n",
    "num_features = ['Battery_mAh','Storage_GB','RAM_GB','Weight_g','Rating']\n",
    "\n",
    "cat_transformer = Pipeline(steps=[('imputer',SimpleImputer(strategy='constant',fill_value='missing')),\n",
    "                                  ('onehot',OneHotEncoder(handle_unknown='ignore'))])\n",
    "num_transformer = Pipeline(steps=[('imputer',SimpleImputer(strategy='mean'))])"
   ]
  },
  {
   "cell_type": "code",
   "execution_count": 41,
   "id": "4905b1e4-1ce2-4635-b01c-cb24deacd933",
   "metadata": {},
   "outputs": [
    {
     "data": {
      "text/plain": [
       "-0.17376798565692808"
      ]
     },
     "execution_count": 41,
     "metadata": {},
     "output_type": "execute_result"
    }
   ],
   "source": [
    "preprocessing = ColumnTransformer(transformers =[('cat',cat_transformer,cat_features),\n",
    "                                  ('num',num_transformer,num_features)])\n",
    "\n",
    "model = Pipeline(steps=[(\"preprocessing\",preprocessing),\n",
    "                       (\"model\",RandomForestRegressor())])\n",
    "\n",
    "# split data\n",
    "x = data.drop(\"Price\",axis=1)\n",
    "y = data['Price']\n",
    "\n",
    "x_train,x_test,y_train,y_test = train_test_split(x,y,test_size=0.2)\n",
    "\n",
    "model.fit(x_train,y_train)\n",
    "model.score(x_test,y_test)"
   ]
  },
  {
   "cell_type": "code",
   "execution_count": null,
   "id": "ccc4601f-cef8-4317-ad16-e90bb84abff1",
   "metadata": {},
   "outputs": [],
   "source": []
  }
 ],
 "metadata": {
  "kernelspec": {
   "display_name": "Python 3 (ipykernel)",
   "language": "python",
   "name": "python3"
  },
  "language_info": {
   "codemirror_mode": {
    "name": "ipython",
    "version": 3
   },
   "file_extension": ".py",
   "mimetype": "text/x-python",
   "name": "python",
   "nbconvert_exporter": "python",
   "pygments_lexer": "ipython3",
   "version": "3.12.7"
  }
 },
 "nbformat": 4,
 "nbformat_minor": 5
}
